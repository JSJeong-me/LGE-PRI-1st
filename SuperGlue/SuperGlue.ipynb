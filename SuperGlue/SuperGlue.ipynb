{
  "nbformat": 4,
  "nbformat_minor": 0,
  "metadata": {
    "colab": {
      "provenance": [],
      "gpuType": "T4",
      "authorship_tag": "ABX9TyOEu+Ryk8VmD+EgelroqPmK",
      "include_colab_link": true
    },
    "kernelspec": {
      "name": "python3",
      "display_name": "Python 3"
    },
    "language_info": {
      "name": "python"
    },
    "accelerator": "GPU"
  },
  "cells": [
    {
      "cell_type": "markdown",
      "metadata": {
        "id": "view-in-github",
        "colab_type": "text"
      },
      "source": [
        "<a href=\"https://colab.research.google.com/github/JSJeong-me/LGE-PRI-1st/blob/main/SuperGlue/SuperGlue.ipynb\" target=\"_parent\"><img src=\"https://colab.research.google.com/assets/colab-badge.svg\" alt=\"Open In Colab\"/></a>"
      ]
    },
    {
      "cell_type": "markdown",
      "source": [
        "SuperGlue for Visual Place Recognition"
      ],
      "metadata": {
        "id": "z49cULe_3bMx"
      }
    },
    {
      "cell_type": "code",
      "execution_count": null,
      "metadata": {
        "id": "L9y1NPW32WaR"
      },
      "outputs": [],
      "source": [
        "# 1) Colab 런타임을 Python 3, GPU(TPU 아님)로 설정하세요.\n",
        "#    (상단 메뉴 → 런타임 → 런타임 유형 변경 → 하드웨어 가속기: GPU)\n",
        "\n",
        "# 2) GitHub 저장소를 클론합니다.\n",
        "!git clone https://github.com/jomariya23156/SuperGlue-for-Visual-Place-Recognition.git\n",
        "%cd SuperGlue-for-Visual-Place-Recognition"
      ]
    },
    {
      "cell_type": "code",
      "source": [
        "# 기본 요구 패키지 설치\n",
        "!pip install --upgrade pip\n",
        "!pip install numpy pandas opencv-python torch torchvision matplotlib fastapi uvicorn\n",
        "\n",
        "# 만약 CUDA 버전의 PyTorch가 필요하면,\n",
        "# Colab 런타임이 제공하는 CUDA 버전에 맞춰 설치합니다. 예를 들어:\n",
        "# !pip install torch torchvision --extra-index-url https://download.pytorch.org/whl/cu117\n"
      ],
      "metadata": {
        "id": "aXZmycRX2dif"
      },
      "execution_count": null,
      "outputs": []
    },
    {
      "cell_type": "markdown",
      "source": [],
      "metadata": {
        "id": "fMryjLUg2Z_v"
      }
    },
    {
      "cell_type": "code",
      "source": [
        "from google.colab import drive\n",
        "drive.mount('/content/drive')"
      ],
      "metadata": {
        "colab": {
          "base_uri": "https://localhost:8080/"
        },
        "id": "4pN2eF942iaN",
        "outputId": "1f9258b9-4f4d-40df-8358-b87a12d4e4ff"
      },
      "execution_count": 3,
      "outputs": [
        {
          "output_type": "stream",
          "name": "stdout",
          "text": [
            "Mounted at /content/drive\n"
          ]
        }
      ]
    },
    {
      "cell_type": "code",
      "source": [
        "# 예: 내 Drive 아래에 데이터 폴더를 생성\n",
        "!mkdir -p /content/drive/MyDrive/VPR_data/frames\n",
        "!mkdir -p /content/drive/MyDrive/VPR_data/superpoints\n",
        "!mkdir -p /content/drive/MyDrive/VPR_data/api_output\n"
      ],
      "metadata": {
        "id": "Fa8yM4Pd2koz"
      },
      "execution_count": null,
      "outputs": []
    },
    {
      "cell_type": "code",
      "source": [
        "# 예시: Drive 내에 저장된 비디오 파일을 프레임으로 추출\n",
        "!python image_from_video.py \\\n",
        "  --input /content/drive/MyDrive/VPR_data/video.mp4 \\\n",
        "  --output /content/drive/MyDrive/VPR_data/frames \\\n",
        "  --skip 60 \\\n",
        "  --format png\n"
      ],
      "metadata": {
        "id": "fdj23pvH2udY"
      },
      "execution_count": null,
      "outputs": []
    },
    {
      "cell_type": "markdown",
      "source": [
        "SuperPoint 키포인트/디스크립터 추출"
      ],
      "metadata": {
        "id": "gUi4UAGI23P8"
      }
    },
    {
      "cell_type": "code",
      "source": [
        "!python superpoints_from_images.py \\\n",
        "  --input_dir /content/drive/MyDrive/VPR_data/frames \\\n",
        "  --output_dir /content/drive/MyDrive/VPR_data/superpoints \\\n",
        "  --resize 320 240 \\\n",
        "  --max_keypoints 1024 \\\n",
        "  --keypoint_threshold 0.005 \\\n",
        "  --nms_radius 4 \\\n",
        "  --cuda\n"
      ],
      "metadata": {
        "id": "Kv-cxbX320yZ"
      },
      "execution_count": null,
      "outputs": []
    },
    {
      "cell_type": "markdown",
      "source": [
        "A. SuperPoint .pickle 파일 기반"
      ],
      "metadata": {
        "id": "ZLHs4-Sl3Fce"
      }
    },
    {
      "cell_type": "code",
      "source": [
        "!python superglue_rank_superpoints_file.py \\\n",
        "  --query 0001.pickle \\\n",
        "  --input_dir /content/drive/MyDrive/VPR_data/superpoints \\\n",
        "  --output_dir /content/drive/MyDrive/VPR_data/api_output \\\n",
        "  --image_size 320 240 \\\n",
        "  --superglue indoor \\\n",
        "  --sinkhorn_iterations 20 \\\n",
        "  --match_threshold 0.2 \\\n",
        "  --cuda\n"
      ],
      "metadata": {
        "id": "eNzVOqCQ27Qx"
      },
      "execution_count": null,
      "outputs": []
    },
    {
      "cell_type": "markdown",
      "source": [
        "B. 이미지 파일 기반 (대안)"
      ],
      "metadata": {
        "id": "2VuJiFVf3J4P"
      }
    },
    {
      "cell_type": "code",
      "source": [
        "!python superglue_rank_images.py \\\n",
        "  --query 0001.png \\\n",
        "  --input_dir /content/drive/MyDrive/VPR_data/frames \\\n",
        "  --output_dir /content/drive/MyDrive/VPR_data/api_output \\\n",
        "  --resize 320 240 \\\n",
        "  --resize_float \\\n",
        "  --max_keypoints 1024 \\\n",
        "  --keypoint_threshold 0.005 \\\n",
        "  --nms_radius 4 \\\n",
        "  --superglue indoor \\\n",
        "  --sinkhorn_iterations 20 \\\n",
        "  --match_threshold 0.2 \\\n",
        "  --viz \\\n",
        "  --fast_viz \\\n",
        "  --show_keypoints \\\n",
        "  --cuda\n"
      ],
      "metadata": {
        "id": "YdGg-2gD2-jV"
      },
      "execution_count": null,
      "outputs": []
    },
    {
      "cell_type": "markdown",
      "source": [
        "결과 시각화"
      ],
      "metadata": {
        "id": "GDgeJz423NfU"
      }
    },
    {
      "cell_type": "code",
      "source": [
        "!python ranking_viz.py \\\n",
        "  --query 0001.png \\\n",
        "  --input_csv /content/drive/MyDrive/VPR_data/api_output/ranking_score.csv \\\n",
        "  --input_dir /content/drive/MyDrive/VPR_data/frames \\\n",
        "  --input_extension png \\\n",
        "  --output_extension png \\\n",
        "  --rank 5"
      ],
      "metadata": {
        "id": "luYe7aPO3M5X"
      },
      "execution_count": null,
      "outputs": []
    },
    {
      "cell_type": "code",
      "source": [
        "# 1) ngrok 설치\n",
        "!pip install pyngrok\n",
        "\n",
        "# 2) ngrok 토큰 설정 (https://dashboard.ngrok.com/get-started/your-authtoken)\n",
        "from pyngrok import ngrok\n",
        "ngrok.set_auth_token(\"YOUR_NGROK_AUTHTOKEN\")\n",
        "\n",
        "# 3) FastAPI 서버 실행 및 외부 포트 노출\n",
        "get_ipython().system_raw(\"uvicorn place_recognition_api:app --host 0.0.0.0 --port 8000 &\")\n",
        "public_url = ngrok.connect(8000)\n",
        "print(\"Public URL:\", public_url)"
      ],
      "metadata": {
        "id": "oveG4zHq3UHc"
      },
      "execution_count": null,
      "outputs": []
    }
  ]
}