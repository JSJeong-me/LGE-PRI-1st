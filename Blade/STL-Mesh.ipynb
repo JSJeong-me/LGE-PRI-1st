{
  "nbformat": 4,
  "nbformat_minor": 0,
  "metadata": {
    "colab": {
      "provenance": [],
      "authorship_tag": "ABX9TyPXiO0VEmCc11DBk5zdpqHZ",
      "include_colab_link": true
    },
    "kernelspec": {
      "name": "python3",
      "display_name": "Python 3"
    },
    "language_info": {
      "name": "python"
    }
  },
  "cells": [
    {
      "cell_type": "markdown",
      "metadata": {
        "id": "view-in-github",
        "colab_type": "text"
      },
      "source": [
        "<a href=\"https://colab.research.google.com/github/JSJeong-me/LGE-PRI-1st/blob/main/Blade/STL-Mesh.ipynb\" target=\"_parent\"><img src=\"https://colab.research.google.com/assets/colab-badge.svg\" alt=\"Open In Colab\"/></a>"
      ]
    },
    {
      "cell_type": "code",
      "execution_count": null,
      "metadata": {
        "id": "2erVIyB9vajC"
      },
      "outputs": [],
      "source": [
        "import trimesh\n",
        "import numpy as np\n",
        "import open3d as o3d\n",
        "\n",
        "# STL 파일 읽기\n",
        "mesh = trimesh.load_mesh(\"blade.stl\", process=False)\n",
        "verts, faces = mesh.vertices, mesh.faces\n",
        "\n",
        "# 법선, 곡률 계산\n",
        "v_gauss = trimesh.curvature.discrete_gaussian_curvature_measure(mesh, verts, radius=0.01)\n",
        "v_mean  = trimesh.curvature.discrete_mean_curvature_measure(mesh, verts, radius=0.01)\n",
        "\n",
        "# face metrics\n",
        "v0, v1, v2 = verts[faces].T\n",
        "edges = [np.linalg.norm(v1 - v0, axis=1), np.linalg.norm(v2 - v1, axis=1), np.linalg.norm(v0 - v2, axis=1)]\n",
        "areas = 0.5 * np.linalg.norm(np.cross(v1 - v0, v2 - v0), axis=1)\n",
        "\n",
        "# Open3D 활용 예시\n",
        "omesh = o3d.io.read_triangle_mesh(\"blade.stl\")\n",
        "omesh.compute_vertex_normals()\n",
        "omesh.compute_adjacency_list()\n",
        "verts_o = np.asarray(omesh.vertices)\n",
        "# KD-tree로 이웃 정보 추출 등 활용\n"
      ]
    }
  ]
}