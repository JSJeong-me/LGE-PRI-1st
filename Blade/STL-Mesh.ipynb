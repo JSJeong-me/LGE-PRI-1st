{
  "nbformat": 4,
  "nbformat_minor": 0,
  "metadata": {
    "colab": {
      "provenance": [],
      "authorship_tag": "ABX9TyP8X9fDXhNTeHlRHLVP5b/d",
      "include_colab_link": true
    },
    "kernelspec": {
      "name": "python3",
      "display_name": "Python 3"
    },
    "language_info": {
      "name": "python"
    }
  },
  "cells": [
    {
      "cell_type": "markdown",
      "metadata": {
        "id": "view-in-github",
        "colab_type": "text"
      },
      "source": [
        "<a href=\"https://colab.research.google.com/github/JSJeong-me/LGE-PRI-1st/blob/main/Blade/STL-Mesh.ipynb\" target=\"_parent\"><img src=\"https://colab.research.google.com/assets/colab-badge.svg\" alt=\"Open In Colab\"/></a>"
      ]
    },
    {
      "cell_type": "code",
      "execution_count": 10,
      "metadata": {
        "id": "2erVIyB9vajC"
      },
      "outputs": [],
      "source": [
        "import trimesh\n",
        "import numpy as np\n",
        "import open3d as o3d\n",
        "\n",
        "# STL 파일 읽기\n",
        "mesh = trimesh.load_mesh(\"Fan_Blade_Final.stl\")\n",
        "verts, faces = mesh.vertices, mesh.faces\n",
        "\n",
        "# 법선, 곡률 계산\n",
        "v_gauss = trimesh.curvature.discrete_gaussian_curvature_measure(mesh, verts, radius=0.01)\n",
        "v_mean  = trimesh.curvature.discrete_mean_curvature_measure(mesh, verts, radius=0.01)\n",
        "\n",
        "# face metrics\n",
        "v0, v1, v2 = verts[faces][:,0], verts[faces][:,1], verts[faces][:,2]\n",
        "edges = [np.linalg.norm(v1 - v0, axis=1), np.linalg.norm(v2 - v1, axis=1), np.linalg.norm(v0 - v2, axis=1)]\n",
        "areas = 0.5 * np.linalg.norm(np.cross(v1 - v0, v2 - v0, axis=-1), axis=1)\n",
        "\n",
        "# Open3D 활용 예시\n",
        "omesh = o3d.io.read_triangle_mesh(\"Fan_Blade_Final.stl\")\n",
        "omesh.compute_vertex_normals()\n",
        "omesh.compute_adjacency_list()\n",
        "verts_o = np.asarray(omesh.vertices)\n",
        "# KD-tree로 이웃 정보 추출 등 활용"
      ]
    },
    {
      "cell_type": "code",
      "source": [
        "# prompt: KD-tree로 이웃 정보 시각화\n",
        "\n",
        "# Open3D 활용 예시\n",
        "omesh = o3d.io.read_triangle_mesh(\"Fan_Blade_Final.stl\")\n",
        "omesh.compute_vertex_normals()\n",
        "omesh.compute_adjacency_list()\n",
        "verts_o = np.asarray(omesh.vertices)\n",
        "# KD-tree로 이웃 정보 추출 등 활용\n",
        "\n",
        "pcd = o3d.geometry.PointCloud()\n",
        "pcd.points = o3d.utility.Vector3dVector(verts_o)\n",
        "\n",
        "# KD-tree 생성\n",
        "kdtree = o3d.geometry.KDTreeFlann(pcd)\n",
        "\n",
        "# 특정 점 주변의 이웃 시각화 (예시: 첫 번째 점)\n",
        "point_index = 0\n",
        "[k, idx, _] = kdtree.search_knn_vector_3d(pcd.points[point_index], 50)  # 50개의 가장 가까운 이웃 검색\n",
        "\n",
        "# 이웃 점들을 다른 색상으로 표시하기 위해 새로운 PointCloud 생성\n",
        "neighbors_pcd = o3d.geometry.PointCloud()\n",
        "neighbors_pcd.points = o3d.utility.Vector3dVector(np.asarray(pcd.points)[idx, :])\n",
        "neighbors_pcd.paint_uniform_color([1, 0, 0])  # 이웃 점은 빨간색으로 표시\n",
        "\n",
        "# 원본 메시와 이웃 점들을 함께 시각화\n",
        "o3d.visualization.draw_geometries([omesh, neighbors_pcd])\n",
        "\n",
        "# 시각화할 특정 점도 표시\n",
        "point_of_interest = o3d.geometry.PointCloud()\n",
        "point_of_interest.points = o3d.utility.Vector3dVector([np.asarray(pcd.points)[point_index]])\n",
        "point_of_interest.paint_uniform_color([0, 0, 1]) # 특정 점은 파란색으로 표시\n",
        "\n",
        "o3d.visualization.draw_geometries([omesh, neighbors_pcd, point_of_interest])\n"
      ],
      "metadata": {
        "colab": {
          "base_uri": "https://localhost:8080/"
        },
        "id": "C0hoQOrADTpU",
        "outputId": "375caf4d-66ec-4b8e-cea0-aa32d350bae8"
      },
      "execution_count": 11,
      "outputs": [
        {
          "output_type": "stream",
          "name": "stdout",
          "text": [
            "\u001b[1;33m[Open3D WARNING] GLFW Error: Failed to detect any supported platform\u001b[0;m\n",
            "\u001b[1;33m[Open3D WARNING] GLFW initialized for headless rendering.\u001b[0;m\n",
            "\u001b[1;33m[Open3D WARNING] GLFW Error: OSMesa: Library not found\u001b[0;m\n",
            "\u001b[1;33m[Open3D WARNING] Failed to create window\u001b[0;m\n",
            "\u001b[1;33m[Open3D WARNING] [DrawGeometries] Failed creating OpenGL window.\u001b[0;m\n",
            "\u001b[1;33m[Open3D WARNING] GLFW initialized for headless rendering.\u001b[0;m\n",
            "\u001b[1;33m[Open3D WARNING] GLFW Error: OSMesa: Library not found\u001b[0;m\n",
            "\u001b[1;33m[Open3D WARNING] Failed to create window\u001b[0;m\n",
            "\u001b[1;33m[Open3D WARNING] [DrawGeometries] Failed creating OpenGL window.\u001b[0;m\n"
          ]
        }
      ]
    },
    {
      "cell_type": "code",
      "source": [
        "# prompt: \"\"\"\n",
        "# [Open3D WARNING] GLFW Error: Failed to detect any supported platform0;m\n",
        "# [Open3D WARNING] GLFW initialized for headless rendering.0;m\n",
        "# [Open3D WARNING] GLFW Error: OSMesa: Library not found0;m\n",
        "# [Open3D WARNING] Failed to create window0;m\n",
        "# [Open3D WARNING] [DrawGeometries] Failed creating OpenGL window.0;m\n",
        "# [Open3D WARNING] GLFW initialized for headless rendering.0;m\n",
        "# [Open3D WARNING] GLFW Error: OSMesa: Library not found0;m\n",
        "# [Open3D WARNING] Failed to create window0;m\n",
        "# [Open3D WARNING] [DrawGeometries] Failed creating OpenGL window.0;m\n",
        "# \"\"\"\n",
        "# docstring error fix\n",
        "\n",
        "# This error occurs because Open3D's visualization functions require a graphical environment,\n",
        "# which is not available by default in Google Colab notebooks.\n",
        "# You can try using Open3D in headless mode (without visualization) or\n",
        "# using alternative visualization libraries if you need to display the meshes.\n",
        "\n",
        "# One way to potentially work around this is to try installing xvfb and running\n",
        "# visualization within a virtual display. However, this is not always guaranteed to work\n",
        "# seamlessly in Colab.\n",
        "\n",
        "# If visualization is critical, consider running your code in a local environment\n",
        "# where you have a display manager, or explore cloud-based virtual machines\n",
        "# with graphical capabilities.\n",
        "\n",
        "# For now, we'll comment out the visualization parts causing the error.\n",
        "# If you need to debug or inspect the data, print statements or saving to files\n",
        "# are alternatives.\n",
        "\n",
        "import trimesh\n",
        "import numpy as np\n",
        "import open3d as o3d\n",
        "\n",
        "# STL 파일 읽기\n",
        "# Ensure \"Fan_Blade_Final.stl\" is uploaded to your Colab environment\n",
        "# from google.colab import files\n",
        "# uploaded = files.upload()\n",
        "# if \"Fan_Blade_Final.stl\" not in uploaded:\n",
        "#   print(\"Please upload Fan_Blade_Final.stl\")\n",
        "#   exit()\n",
        "\n",
        "try:\n",
        "  mesh = trimesh.load_mesh(\"Fan_Blade_Final.stl\")\n",
        "  verts, faces = mesh.vertices, mesh.faces\n",
        "\n",
        "  # 법선, 곡률 계산\n",
        "  v_gauss = trimesh.curvature.discrete_gaussian_curvature_measure(mesh, verts, radius=0.01)\n",
        "  v_mean  = trimesh.curvature.discrete_mean_curvature_measure(mesh, verts, radius=0.01)\n",
        "\n",
        "  # face metrics\n",
        "  v0, v1, v2 = verts[faces][:,0], verts[faces][:,1], verts[faces][:,2]\n",
        "  edges = [np.linalg.norm(v1 - v0, axis=1), np.linalg.norm(v2 - v1, axis=1), np.linalg.norm(v0 - v2, axis=1)]\n",
        "  areas = 0.5 * np.linalg.norm(np.cross(v1 - v0, v2 - v0, axis=-1), axis=1)\n",
        "\n",
        "  # Open3D 활용 예시\n",
        "  omesh = o3d.io.read_triangle_mesh(\"Fan_Blade_Final.stl\")\n",
        "  omesh.compute_vertex_normals()\n",
        "  omesh.compute_adjacency_list()\n",
        "  verts_o = np.asarray(omesh.vertices)\n",
        "  # KD-tree로 이웃 정보 추출 등 활용\n",
        "\n",
        "  pcd = o3d.geometry.PointCloud()\n",
        "  pcd.points = o3d.utility.Vector3dVector(verts_o)\n",
        "\n",
        "  # KD-tree 생성\n",
        "  kdtree = o3d.geometry.KDTreeFlann(pcd)\n",
        "\n",
        "  # 특정 점 주변의 이웃 정보 추출 (예시: 첫 번째 점)\n",
        "  point_index = 0\n",
        "  [k, idx, _] = kdtree.search_knn_vector_3d(pcd.points[point_index], 50)  # 50개의 가장 가까운 이웃 검색\n",
        "\n",
        "  # Now you have the indices `idx` of the neighboring points.\n",
        "  # You can use these indices for further analysis or processing.\n",
        "  # For example, access the coordinates of the neighboring points:\n",
        "  neighbor_points_coords = np.asarray(pcd.points)[idx, :]\n",
        "\n",
        "  print(f\"Found {len(idx)} neighbors for point index {point_index}.\")\n",
        "  # print(\"Neighbor coordinates (first 5):\")\n",
        "  # print(neighbor_points_coords[:5])\n",
        "\n",
        "  # Commenting out visualization which causes the error in Colab's environment\n",
        "  # # 이웃 점들을 다른 색상으로 표시하기 위해 새로운 PointCloud 생성\n",
        "  # neighbors_pcd = o3d.geometry.PointCloud()\n",
        "  # neighbors_pcd.points = o3d.utility.Vector3dVector(np.asarray(pcd.points)[idx, :])\n",
        "  # neighbors_pcd.paint_uniform_color([1, 0, 0])  # 이웃 점은 빨간색으로 표시\n",
        "\n",
        "  # # 원본 메시와 이웃 점들을 함께 시각화\n",
        "  # o3d.visualization.draw_geometries([omesh, neighbors_pcd])\n",
        "\n",
        "  # # 시각화할 특정 점도 표시\n",
        "  # point_of_interest = o3d.geometry.PointCloud()\n",
        "  # point_of_interest.points = o3d.utility.Vector3dVector([np.asarray(pcd.points)[point_index]])\n",
        "  # point_of_interest.paint_uniform_color([0, 0, 1]) # 특정 점은 파란색으로 표시\n",
        "\n",
        "  # o3d.visualization.draw_geometries([omesh, neighbors_pcd, point_of_interest])\n",
        "\n",
        "except FileNotFoundError:\n",
        "  print(\"Error: Fan_Blade_Final.stl not found. Please upload the file.\")\n",
        "except Exception as e:\n",
        "  print(f\"An error occurred: {e}\")"
      ],
      "metadata": {
        "colab": {
          "base_uri": "https://localhost:8080/"
        },
        "id": "M-AKV19ADgOb",
        "outputId": "1596faa5-ca82-4f5e-dbfc-c53a8c3d33ac"
      },
      "execution_count": 13,
      "outputs": [
        {
          "output_type": "stream",
          "name": "stdout",
          "text": [
            "Found 50 neighbors for point index 0.\n"
          ]
        }
      ]
    },
    {
      "cell_type": "code",
      "source": [
        "# prompt: Found 50 neighbors for points display\n",
        "\n",
        "# Commenting out visualization which causes the error in Colab's environment\n",
        "# # 이웃 점들을 다른 색상으로 표시하기 위해 새로운 PointCloud 생성\n",
        "# neighbors_pcd = o3d.geometry.PointCloud()\n",
        "# neighbors_pcd.points = o3d.utility.Vector3dVector(np.asarray(pcd.points)[idx, :])\n",
        "# neighbors_pcd.paint_uniform_color([1, 0, 0])  # 이웃 점은 빨간색으로 표시\n",
        "\n",
        "# # 원본 메시와 이웃 점들을 함께 시각화\n",
        "# o3d.visualization.draw_geometries([omesh, neighbors_pcd])\n",
        "\n",
        "# # 시각화할 특정 점도 표시\n",
        "# point_of_interest = o3d.geometry.PointCloud()\n",
        "# point_of_interest.points = o3d.utility.Vector3dVector([np.asarray(pcd.points)[point_index]])\n",
        "# point_of_interest.paint_uniform_color([0, 0, 1]) # 특정 점은 파란색으로 표시\n",
        "\n",
        "# o3d.visualization.draw_geometries([omesh, neighbors_pcd, point_of_interest])\n"
      ],
      "metadata": {
        "id": "4vFpwwkCDy8q",
        "outputId": "fd9ecb4f-a75d-46c2-cc17-807aa78de690",
        "colab": {
          "base_uri": "https://localhost:8080/"
        }
      },
      "execution_count": 15,
      "outputs": [
        {
          "output_type": "stream",
          "name": "stdout",
          "text": [
            "\u001b[1;33m[Open3D WARNING] GLFW initialized for headless rendering.\u001b[0;m\n",
            "\u001b[1;33m[Open3D WARNING] GLFW Error: OSMesa: Library not found\u001b[0;m\n",
            "\u001b[1;33m[Open3D WARNING] Failed to create window\u001b[0;m\n",
            "\u001b[1;33m[Open3D WARNING] [DrawGeometries] Failed creating OpenGL window.\u001b[0;m\n",
            "\u001b[1;33m[Open3D WARNING] GLFW initialized for headless rendering.\u001b[0;m\n",
            "\u001b[1;33m[Open3D WARNING] GLFW Error: OSMesa: Library not found\u001b[0;m\n",
            "\u001b[1;33m[Open3D WARNING] Failed to create window\u001b[0;m\n",
            "\u001b[1;33m[Open3D WARNING] [DrawGeometries] Failed creating OpenGL window.\u001b[0;m\n"
          ]
        }
      ]
    },
    {
      "cell_type": "code",
      "source": [],
      "metadata": {
        "id": "xJJJwAlSD76O"
      },
      "execution_count": null,
      "outputs": []
    },
    {
      "cell_type": "code",
      "metadata": {
        "colab": {
          "base_uri": "https://localhost:8080/"
        },
        "id": "993e5816",
        "outputId": "4893473c-82c2-447d-d9b9-0228f8168246"
      },
      "source": [
        "!pip install trimesh"
      ],
      "execution_count": 2,
      "outputs": [
        {
          "output_type": "stream",
          "name": "stdout",
          "text": [
            "Collecting trimesh\n",
            "  Downloading trimesh-4.7.1-py3-none-any.whl.metadata (18 kB)\n",
            "Requirement already satisfied: numpy>=1.20 in /usr/local/lib/python3.11/dist-packages (from trimesh) (2.0.2)\n",
            "Downloading trimesh-4.7.1-py3-none-any.whl (709 kB)\n",
            "\u001b[2K   \u001b[90m━━━━━━━━━━━━━━━━━━━━━━━━━━━━━━━━━━━━━━━━\u001b[0m \u001b[32m709.0/709.0 kB\u001b[0m \u001b[31m21.7 MB/s\u001b[0m eta \u001b[36m0:00:00\u001b[0m\n",
            "\u001b[?25hInstalling collected packages: trimesh\n",
            "Successfully installed trimesh-4.7.1\n"
          ]
        }
      ]
    },
    {
      "cell_type": "code",
      "metadata": {
        "colab": {
          "base_uri": "https://localhost:8080/"
        },
        "id": "3d0025b3",
        "outputId": "5cc1d286-cd54-47bb-b6eb-c5a1d58ba06f"
      },
      "source": [
        "!pip install open3d"
      ],
      "execution_count": 4,
      "outputs": [
        {
          "output_type": "stream",
          "name": "stdout",
          "text": [
            "Collecting open3d\n",
            "  Downloading open3d-0.19.0-cp311-cp311-manylinux_2_31_x86_64.whl.metadata (4.3 kB)\n",
            "Requirement already satisfied: numpy>=1.18.0 in /usr/local/lib/python3.11/dist-packages (from open3d) (2.0.2)\n",
            "Collecting dash>=2.6.0 (from open3d)\n",
            "  Downloading dash-3.1.1-py3-none-any.whl.metadata (10 kB)\n",
            "Requirement already satisfied: werkzeug>=3.0.0 in /usr/local/lib/python3.11/dist-packages (from open3d) (3.1.3)\n",
            "Requirement already satisfied: flask>=3.0.0 in /usr/local/lib/python3.11/dist-packages (from open3d) (3.1.1)\n",
            "Requirement already satisfied: nbformat>=5.7.0 in /usr/local/lib/python3.11/dist-packages (from open3d) (5.10.4)\n",
            "Collecting configargparse (from open3d)\n",
            "  Downloading configargparse-1.7.1-py3-none-any.whl.metadata (24 kB)\n",
            "Collecting ipywidgets>=8.0.4 (from open3d)\n",
            "  Downloading ipywidgets-8.1.7-py3-none-any.whl.metadata (2.4 kB)\n",
            "Collecting addict (from open3d)\n",
            "  Downloading addict-2.4.0-py3-none-any.whl.metadata (1.0 kB)\n",
            "Requirement already satisfied: pillow>=9.3.0 in /usr/local/lib/python3.11/dist-packages (from open3d) (11.2.1)\n",
            "Requirement already satisfied: matplotlib>=3 in /usr/local/lib/python3.11/dist-packages (from open3d) (3.10.0)\n",
            "Requirement already satisfied: pandas>=1.0 in /usr/local/lib/python3.11/dist-packages (from open3d) (2.2.2)\n",
            "Requirement already satisfied: pyyaml>=5.4.1 in /usr/local/lib/python3.11/dist-packages (from open3d) (6.0.2)\n",
            "Requirement already satisfied: scikit-learn>=0.21 in /usr/local/lib/python3.11/dist-packages (from open3d) (1.6.1)\n",
            "Requirement already satisfied: tqdm in /usr/local/lib/python3.11/dist-packages (from open3d) (4.67.1)\n",
            "Collecting pyquaternion (from open3d)\n",
            "  Downloading pyquaternion-0.9.9-py3-none-any.whl.metadata (1.4 kB)\n",
            "Requirement already satisfied: plotly>=5.0.0 in /usr/local/lib/python3.11/dist-packages (from dash>=2.6.0->open3d) (5.24.1)\n",
            "Requirement already satisfied: importlib-metadata in /usr/local/lib/python3.11/dist-packages (from dash>=2.6.0->open3d) (8.7.0)\n",
            "Requirement already satisfied: typing-extensions>=4.1.1 in /usr/local/lib/python3.11/dist-packages (from dash>=2.6.0->open3d) (4.14.1)\n",
            "Requirement already satisfied: requests in /usr/local/lib/python3.11/dist-packages (from dash>=2.6.0->open3d) (2.32.3)\n",
            "Collecting retrying (from dash>=2.6.0->open3d)\n",
            "  Downloading retrying-1.4.1-py3-none-any.whl.metadata (7.5 kB)\n",
            "Requirement already satisfied: nest-asyncio in /usr/local/lib/python3.11/dist-packages (from dash>=2.6.0->open3d) (1.6.0)\n",
            "Requirement already satisfied: setuptools in /usr/local/lib/python3.11/dist-packages (from dash>=2.6.0->open3d) (75.2.0)\n",
            "Requirement already satisfied: blinker>=1.9.0 in /usr/local/lib/python3.11/dist-packages (from flask>=3.0.0->open3d) (1.9.0)\n",
            "Requirement already satisfied: click>=8.1.3 in /usr/local/lib/python3.11/dist-packages (from flask>=3.0.0->open3d) (8.2.1)\n",
            "Requirement already satisfied: itsdangerous>=2.2.0 in /usr/local/lib/python3.11/dist-packages (from flask>=3.0.0->open3d) (2.2.0)\n",
            "Requirement already satisfied: jinja2>=3.1.2 in /usr/local/lib/python3.11/dist-packages (from flask>=3.0.0->open3d) (3.1.6)\n",
            "Requirement already satisfied: markupsafe>=2.1.1 in /usr/local/lib/python3.11/dist-packages (from flask>=3.0.0->open3d) (3.0.2)\n",
            "Collecting comm>=0.1.3 (from ipywidgets>=8.0.4->open3d)\n",
            "  Downloading comm-0.2.2-py3-none-any.whl.metadata (3.7 kB)\n",
            "Requirement already satisfied: ipython>=6.1.0 in /usr/local/lib/python3.11/dist-packages (from ipywidgets>=8.0.4->open3d) (7.34.0)\n",
            "Requirement already satisfied: traitlets>=4.3.1 in /usr/local/lib/python3.11/dist-packages (from ipywidgets>=8.0.4->open3d) (5.7.1)\n",
            "Collecting widgetsnbextension~=4.0.14 (from ipywidgets>=8.0.4->open3d)\n",
            "  Downloading widgetsnbextension-4.0.14-py3-none-any.whl.metadata (1.6 kB)\n",
            "Requirement already satisfied: jupyterlab_widgets~=3.0.15 in /usr/local/lib/python3.11/dist-packages (from ipywidgets>=8.0.4->open3d) (3.0.15)\n",
            "Requirement already satisfied: contourpy>=1.0.1 in /usr/local/lib/python3.11/dist-packages (from matplotlib>=3->open3d) (1.3.2)\n",
            "Requirement already satisfied: cycler>=0.10 in /usr/local/lib/python3.11/dist-packages (from matplotlib>=3->open3d) (0.12.1)\n",
            "Requirement already satisfied: fonttools>=4.22.0 in /usr/local/lib/python3.11/dist-packages (from matplotlib>=3->open3d) (4.58.5)\n",
            "Requirement already satisfied: kiwisolver>=1.3.1 in /usr/local/lib/python3.11/dist-packages (from matplotlib>=3->open3d) (1.4.8)\n",
            "Requirement already satisfied: packaging>=20.0 in /usr/local/lib/python3.11/dist-packages (from matplotlib>=3->open3d) (25.0)\n",
            "Requirement already satisfied: pyparsing>=2.3.1 in /usr/local/lib/python3.11/dist-packages (from matplotlib>=3->open3d) (3.2.3)\n",
            "Requirement already satisfied: python-dateutil>=2.7 in /usr/local/lib/python3.11/dist-packages (from matplotlib>=3->open3d) (2.9.0.post0)\n",
            "Requirement already satisfied: fastjsonschema>=2.15 in /usr/local/lib/python3.11/dist-packages (from nbformat>=5.7.0->open3d) (2.21.1)\n",
            "Requirement already satisfied: jsonschema>=2.6 in /usr/local/lib/python3.11/dist-packages (from nbformat>=5.7.0->open3d) (4.24.0)\n",
            "Requirement already satisfied: jupyter-core!=5.0.*,>=4.12 in /usr/local/lib/python3.11/dist-packages (from nbformat>=5.7.0->open3d) (5.8.1)\n",
            "Requirement already satisfied: pytz>=2020.1 in /usr/local/lib/python3.11/dist-packages (from pandas>=1.0->open3d) (2025.2)\n",
            "Requirement already satisfied: tzdata>=2022.7 in /usr/local/lib/python3.11/dist-packages (from pandas>=1.0->open3d) (2025.2)\n",
            "Requirement already satisfied: scipy>=1.6.0 in /usr/local/lib/python3.11/dist-packages (from scikit-learn>=0.21->open3d) (1.15.3)\n",
            "Requirement already satisfied: joblib>=1.2.0 in /usr/local/lib/python3.11/dist-packages (from scikit-learn>=0.21->open3d) (1.5.1)\n",
            "Requirement already satisfied: threadpoolctl>=3.1.0 in /usr/local/lib/python3.11/dist-packages (from scikit-learn>=0.21->open3d) (3.6.0)\n",
            "Collecting jedi>=0.16 (from ipython>=6.1.0->ipywidgets>=8.0.4->open3d)\n",
            "  Downloading jedi-0.19.2-py2.py3-none-any.whl.metadata (22 kB)\n",
            "Requirement already satisfied: decorator in /usr/local/lib/python3.11/dist-packages (from ipython>=6.1.0->ipywidgets>=8.0.4->open3d) (4.4.2)\n",
            "Requirement already satisfied: pickleshare in /usr/local/lib/python3.11/dist-packages (from ipython>=6.1.0->ipywidgets>=8.0.4->open3d) (0.7.5)\n",
            "Requirement already satisfied: prompt-toolkit!=3.0.0,!=3.0.1,<3.1.0,>=2.0.0 in /usr/local/lib/python3.11/dist-packages (from ipython>=6.1.0->ipywidgets>=8.0.4->open3d) (3.0.51)\n",
            "Requirement already satisfied: pygments in /usr/local/lib/python3.11/dist-packages (from ipython>=6.1.0->ipywidgets>=8.0.4->open3d) (2.19.2)\n",
            "Requirement already satisfied: backcall in /usr/local/lib/python3.11/dist-packages (from ipython>=6.1.0->ipywidgets>=8.0.4->open3d) (0.2.0)\n",
            "Requirement already satisfied: matplotlib-inline in /usr/local/lib/python3.11/dist-packages (from ipython>=6.1.0->ipywidgets>=8.0.4->open3d) (0.1.7)\n",
            "Requirement already satisfied: pexpect>4.3 in /usr/local/lib/python3.11/dist-packages (from ipython>=6.1.0->ipywidgets>=8.0.4->open3d) (4.9.0)\n",
            "Requirement already satisfied: attrs>=22.2.0 in /usr/local/lib/python3.11/dist-packages (from jsonschema>=2.6->nbformat>=5.7.0->open3d) (25.3.0)\n",
            "Requirement already satisfied: jsonschema-specifications>=2023.03.6 in /usr/local/lib/python3.11/dist-packages (from jsonschema>=2.6->nbformat>=5.7.0->open3d) (2025.4.1)\n",
            "Requirement already satisfied: referencing>=0.28.4 in /usr/local/lib/python3.11/dist-packages (from jsonschema>=2.6->nbformat>=5.7.0->open3d) (0.36.2)\n",
            "Requirement already satisfied: rpds-py>=0.7.1 in /usr/local/lib/python3.11/dist-packages (from jsonschema>=2.6->nbformat>=5.7.0->open3d) (0.26.0)\n",
            "Requirement already satisfied: platformdirs>=2.5 in /usr/local/lib/python3.11/dist-packages (from jupyter-core!=5.0.*,>=4.12->nbformat>=5.7.0->open3d) (4.3.8)\n",
            "Requirement already satisfied: tenacity>=6.2.0 in /usr/local/lib/python3.11/dist-packages (from plotly>=5.0.0->dash>=2.6.0->open3d) (8.5.0)\n",
            "Requirement already satisfied: six>=1.5 in /usr/local/lib/python3.11/dist-packages (from python-dateutil>=2.7->matplotlib>=3->open3d) (1.17.0)\n",
            "Requirement already satisfied: zipp>=3.20 in /usr/local/lib/python3.11/dist-packages (from importlib-metadata->dash>=2.6.0->open3d) (3.23.0)\n",
            "Requirement already satisfied: charset-normalizer<4,>=2 in /usr/local/lib/python3.11/dist-packages (from requests->dash>=2.6.0->open3d) (3.4.2)\n",
            "Requirement already satisfied: idna<4,>=2.5 in /usr/local/lib/python3.11/dist-packages (from requests->dash>=2.6.0->open3d) (3.10)\n",
            "Requirement already satisfied: urllib3<3,>=1.21.1 in /usr/local/lib/python3.11/dist-packages (from requests->dash>=2.6.0->open3d) (2.4.0)\n",
            "Requirement already satisfied: certifi>=2017.4.17 in /usr/local/lib/python3.11/dist-packages (from requests->dash>=2.6.0->open3d) (2025.7.14)\n",
            "Requirement already satisfied: parso<0.9.0,>=0.8.4 in /usr/local/lib/python3.11/dist-packages (from jedi>=0.16->ipython>=6.1.0->ipywidgets>=8.0.4->open3d) (0.8.4)\n",
            "Requirement already satisfied: ptyprocess>=0.5 in /usr/local/lib/python3.11/dist-packages (from pexpect>4.3->ipython>=6.1.0->ipywidgets>=8.0.4->open3d) (0.7.0)\n",
            "Requirement already satisfied: wcwidth in /usr/local/lib/python3.11/dist-packages (from prompt-toolkit!=3.0.0,!=3.0.1,<3.1.0,>=2.0.0->ipython>=6.1.0->ipywidgets>=8.0.4->open3d) (0.2.13)\n",
            "Downloading open3d-0.19.0-cp311-cp311-manylinux_2_31_x86_64.whl (447.7 MB)\n",
            "\u001b[2K   \u001b[90m━━━━━━━━━━━━━━━━━━━━━━━━━━━━━━━━━━━━━━━━\u001b[0m \u001b[32m447.7/447.7 MB\u001b[0m \u001b[31m3.8 MB/s\u001b[0m eta \u001b[36m0:00:00\u001b[0m\n",
            "\u001b[?25hDownloading dash-3.1.1-py3-none-any.whl (7.9 MB)\n",
            "\u001b[2K   \u001b[90m━━━━━━━━━━━━━━━━━━━━━━━━━━━━━━━━━━━━━━━━\u001b[0m \u001b[32m7.9/7.9 MB\u001b[0m \u001b[31m33.1 MB/s\u001b[0m eta \u001b[36m0:00:00\u001b[0m\n",
            "\u001b[?25hDownloading ipywidgets-8.1.7-py3-none-any.whl (139 kB)\n",
            "\u001b[2K   \u001b[90m━━━━━━━━━━━━━━━━━━━━━━━━━━━━━━━━━━━━━━━━\u001b[0m \u001b[32m139.8/139.8 kB\u001b[0m \u001b[31m11.1 MB/s\u001b[0m eta \u001b[36m0:00:00\u001b[0m\n",
            "\u001b[?25hDownloading addict-2.4.0-py3-none-any.whl (3.8 kB)\n",
            "Downloading configargparse-1.7.1-py3-none-any.whl (25 kB)\n",
            "Downloading pyquaternion-0.9.9-py3-none-any.whl (14 kB)\n",
            "Downloading comm-0.2.2-py3-none-any.whl (7.2 kB)\n",
            "Downloading widgetsnbextension-4.0.14-py3-none-any.whl (2.2 MB)\n",
            "\u001b[2K   \u001b[90m━━━━━━━━━━━━━━━━━━━━━━━━━━━━━━━━━━━━━━━━\u001b[0m \u001b[32m2.2/2.2 MB\u001b[0m \u001b[31m59.7 MB/s\u001b[0m eta \u001b[36m0:00:00\u001b[0m\n",
            "\u001b[?25hDownloading retrying-1.4.1-py3-none-any.whl (12 kB)\n",
            "Downloading jedi-0.19.2-py2.py3-none-any.whl (1.6 MB)\n",
            "\u001b[2K   \u001b[90m━━━━━━━━━━━━━━━━━━━━━━━━━━━━━━━━━━━━━━━━\u001b[0m \u001b[32m1.6/1.6 MB\u001b[0m \u001b[31m51.5 MB/s\u001b[0m eta \u001b[36m0:00:00\u001b[0m\n",
            "\u001b[?25hInstalling collected packages: addict, widgetsnbextension, retrying, pyquaternion, jedi, configargparse, comm, ipywidgets, dash, open3d\n",
            "  Attempting uninstall: widgetsnbextension\n",
            "    Found existing installation: widgetsnbextension 3.6.10\n",
            "    Uninstalling widgetsnbextension-3.6.10:\n",
            "      Successfully uninstalled widgetsnbextension-3.6.10\n",
            "  Attempting uninstall: ipywidgets\n",
            "    Found existing installation: ipywidgets 7.7.1\n",
            "    Uninstalling ipywidgets-7.7.1:\n",
            "      Successfully uninstalled ipywidgets-7.7.1\n",
            "Successfully installed addict-2.4.0 comm-0.2.2 configargparse-1.7.1 dash-3.1.1 ipywidgets-8.1.7 jedi-0.19.2 open3d-0.19.0 pyquaternion-0.9.9 retrying-1.4.1 widgetsnbextension-4.0.14\n"
          ]
        }
      ]
    },
    {
      "cell_type": "code",
      "metadata": {
        "colab": {
          "base_uri": "https://localhost:8080/"
        },
        "id": "8fb589c8",
        "outputId": "c004c98c-cf14-462d-a4f7-10da631db705"
      },
      "source": [
        "!pip install rtree"
      ],
      "execution_count": 6,
      "outputs": [
        {
          "output_type": "stream",
          "name": "stdout",
          "text": [
            "Collecting rtree\n",
            "  Downloading rtree-1.4.0-py3-none-manylinux2014_x86_64.manylinux_2_17_x86_64.whl.metadata (2.1 kB)\n",
            "Downloading rtree-1.4.0-py3-none-manylinux2014_x86_64.manylinux_2_17_x86_64.whl (541 kB)\n",
            "\u001b[?25l   \u001b[90m━━━━━━━━━━━━━━━━━━━━━━━━━━━━━━━━━━━━━━━━\u001b[0m \u001b[32m0.0/541.1 kB\u001b[0m \u001b[31m?\u001b[0m eta \u001b[36m-:--:--\u001b[0m\r\u001b[2K   \u001b[91m━━━━━━━━━━━━━━━━━━━━━━━━━━━━━━━━━━━━━━━\u001b[0m\u001b[90m╺\u001b[0m \u001b[32m532.5/541.1 kB\u001b[0m \u001b[31m25.2 MB/s\u001b[0m eta \u001b[36m0:00:01\u001b[0m\r\u001b[2K   \u001b[90m━━━━━━━━━━━━━━━━━━━━━━━━━━━━━━━━━━━━━━━━\u001b[0m \u001b[32m541.1/541.1 kB\u001b[0m \u001b[31m14.3 MB/s\u001b[0m eta \u001b[36m0:00:00\u001b[0m\n",
            "\u001b[?25hInstalling collected packages: rtree\n",
            "Successfully installed rtree-1.4.0\n"
          ]
        }
      ]
    }
  ]
}