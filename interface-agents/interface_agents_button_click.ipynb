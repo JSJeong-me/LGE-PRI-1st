{
  "cells": [
    {
      "cell_type": "markdown",
      "metadata": {
        "id": "view-in-github",
        "colab_type": "text"
      },
      "source": [
        "<a href=\"https://colab.research.google.com/github/JSJeong-me/LGE-PRI-1st/blob/main/interface-agents/interface_agents_button_click.ipynb\" target=\"_parent\"><img src=\"https://colab.research.google.com/assets/colab-badge.svg\" alt=\"Open In Colab\"/></a>"
      ]
    },
    {
      "cell_type": "markdown",
      "metadata": {
        "id": "BMBBK_P2mbrL"
      },
      "source": [
        "## Control Panel Switch Operation\n",
        "\n",
        "\n",
        "\n",
        "\n"
      ]
    },
    {
      "cell_type": "code",
      "source": [
        "!pip install interfaceagent"
      ],
      "metadata": {
        "id": "UDB9yOa6xn19"
      },
      "execution_count": null,
      "outputs": []
    },
    {
      "cell_type": "code",
      "source": [
        "!playwright install"
      ],
      "metadata": {
        "id": "tTza4GZ9xp8j"
      },
      "execution_count": null,
      "outputs": []
    },
    {
      "cell_type": "code",
      "source": [
        "from google.colab import userdata\n",
        "import openai\n",
        "import os\n",
        "\n",
        "os.environ[\"OPENAI_API_KEY\"] = userdata.get('OPENAI_API_KEY')\n",
        "openai.api_key  = os.environ[\"OPENAI_API_KEY\"]"
      ],
      "metadata": {
        "id": "iVhbhSShmcbX"
      },
      "execution_count": null,
      "outputs": []
    },
    {
      "cell_type": "code",
      "execution_count": null,
      "metadata": {
        "id": "vYJBJc-JmbrM"
      },
      "outputs": [],
      "source": [
        "from interfaceagent import WebBrowser, Planner, OpenAIPlannerModel"
      ]
    },
    {
      "cell_type": "code",
      "source": [
        "browser = WebBrowser(start_url=\"https://jsjeong-me.github.io/ControPanel/\",headless=True) # False\n",
        "model = OpenAIPlannerModel(model=\"gpt-4o\")"
      ],
      "metadata": {
        "id": "PkOTFFtMqvDm"
      },
      "execution_count": null,
      "outputs": []
    },
    {
      "cell_type": "markdown",
      "source": [
        "To automate the task of finding seven buttons on the specified site, clicking them in sequence (\"Speed 1\" through \"Speed 7\") with a 5-second interval, and then exiting, here's the step-by-step instruction in English:\n",
        "\n",
        "1. Open the Website\n",
        "  Launch a browser and navigate to the URL:\n",
        "  https://jsjeong-me.github.io/ControPanel/.\n",
        "\n",
        "2. Locate the Buttons\n",
        "  Identify seven buttons labeled from \"Speed 1\" to \"Speed 7\" on the webpage.\n",
        "\n",
        "3. Initiate Button Click Sequence\n",
        "\n",
        "  Start with the button labeled \"Speed 1.\"\n",
        "  Click the button.\n",
        "\n",
        "4. Wait Interval\n",
        "  After each button click, wait for 5 seconds before proceeding to the next button.\n",
        "\n",
        "5. Continue Clicking\n",
        "\n",
        "  Repeat the process for \"Speed 2,\" \"Speed 3,\" ..., up to \"Speed 7.\"\n",
        "  Ensure the same 5-second interval is maintained between clicks.\n",
        "\n",
        "6. Exit the Website\n",
        "  Once all seven buttons are clicked, close the browser to terminate the task."
      ],
      "metadata": {
        "id": "LMiBQt5M6YIa"
      }
    },
    {
      "cell_type": "code",
      "source": [
        "GET_SPEED = \"Speed 5\"\n",
        "task = f\"\"\"\n",
        "Instructions for clicking the {GET_SPEED} button:\n",
        "\n",
        "1. Open the Website\n",
        "   - Navigate to https://jsjeong-me.github.io/ControPanel/\n",
        "\n",
        "2. Locate Speed {GET_SPEED} Button\n",
        "   - Find the button specifically labeled {GET_SPEED} among the seven speed buttons\n",
        "   - Verify that this is the correct button before proceeding\n",
        "\n",
        "3. Click {GET_SPEED} Button\n",
        "   - Click only the {GET_SPEED} button\n",
        "   - Do not click any other speed buttons\n",
        "\n",
        "4. Verify Action\n",
        "   - Confirm that the fan speed is now set to {GET_SPEED}\n",
        "   - Ensure no other speed settings were changed\n",
        "\n",
        "5. Exit Website\n",
        "   - Close the browser after confirming the speed setting\n",
        "\"\"\""
      ],
      "metadata": {
        "id": "xtytez4AfELl"
      },
      "execution_count": null,
      "outputs": []
    },
    {
      "cell_type": "code",
      "source": [
        "planner = Planner(model=model, web_browser=browser, task=task)"
      ],
      "metadata": {
        "id": "ql6y-r6Ws9eE"
      },
      "execution_count": null,
      "outputs": []
    },
    {
      "cell_type": "code",
      "source": [
        "result = await planner.run(task=task)"
      ],
      "metadata": {
        "id": "Yiv-y-nOpbbM"
      },
      "execution_count": null,
      "outputs": []
    },
    {
      "cell_type": "code",
      "execution_count": null,
      "metadata": {
        "id": "zwYLrAQ_mbrM"
      },
      "outputs": [],
      "source": [
        "print(result)"
      ]
    },
    {
      "cell_type": "code",
      "execution_count": null,
      "metadata": {
        "id": "0d9edmdumbrN"
      },
      "outputs": [],
      "source": [
        "import base64\n",
        "from IPython.display import HTML\n",
        "\n",
        "def display_image(file_path):\n",
        "    # Read the image file\n",
        "    with open(file_path, \"rb\") as image_file:\n",
        "        encoded_string = base64.b64encode(image_file.read()).decode()\n",
        "\n",
        "    # Create the HTML to display the image\n",
        "    html = f'<img src=\"data:image/png;base64,{encoded_string}\" />'\n",
        "\n",
        "    # Display the HTML\n",
        "    return HTML(html)\n",
        "\n",
        "# Usage\n",
        "display_image('screenshot.png')"
      ]
    }
  ],
  "metadata": {
    "kernelspec": {
      "display_name": "autog",
      "language": "python",
      "name": "python3"
    },
    "language_info": {
      "codemirror_mode": {
        "name": "ipython",
        "version": 3
      },
      "file_extension": ".py",
      "mimetype": "text/x-python",
      "name": "python",
      "nbconvert_exporter": "python",
      "pygments_lexer": "ipython3",
      "version": "3.10.14"
    },
    "colab": {
      "provenance": [],
      "include_colab_link": true
    }
  },
  "nbformat": 4,
  "nbformat_minor": 0
}