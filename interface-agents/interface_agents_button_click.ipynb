{
  "cells": [
    {
      "cell_type": "markdown",
      "metadata": {
        "id": "view-in-github",
        "colab_type": "text"
      },
      "source": [
        "<a href=\"https://colab.research.google.com/github/JSJeong-me/LGE-PRI-1st/blob/main/interface-agents/interface_agents_button_click.ipynb\" target=\"_parent\"><img src=\"https://colab.research.google.com/assets/colab-badge.svg\" alt=\"Open In Colab\"/></a>"
      ]
    },
    {
      "cell_type": "markdown",
      "metadata": {
        "id": "BMBBK_P2mbrL"
      },
      "source": [
        "## Control Panel Switch Operation\n",
        "\n",
        "\n",
        "\n",
        "\n"
      ]
    },
    {
      "cell_type": "code",
      "source": [
        "!pip install interfaceagent"
      ],
      "metadata": {
        "id": "UDB9yOa6xn19"
      },
      "execution_count": null,
      "outputs": []
    },
    {
      "cell_type": "code",
      "source": [
        "!playwright install"
      ],
      "metadata": {
        "id": "tTza4GZ9xp8j"
      },
      "execution_count": null,
      "outputs": []
    },
    {
      "cell_type": "code",
      "source": [
        "!pip install httpx==0.27.2"
      ],
      "metadata": {
        "id": "l68gGx9SK-ur"
      },
      "execution_count": null,
      "outputs": []
    },
    {
      "cell_type": "code",
      "source": [
        "from google.colab import userdata\n",
        "import openai\n",
        "import os\n",
        "\n",
        "os.environ[\"OPENAI_API_KEY\"] = userdata.get('OPENAI_API_KEY')\n",
        "openai.api_key  = os.environ[\"OPENAI_API_KEY\"]"
      ],
      "metadata": {
        "id": "iVhbhSShmcbX"
      },
      "execution_count": 4,
      "outputs": []
    },
    {
      "cell_type": "code",
      "execution_count": 5,
      "metadata": {
        "id": "vYJBJc-JmbrM"
      },
      "outputs": [],
      "source": [
        "from interfaceagent import WebBrowser, Planner, OpenAIPlannerModel"
      ]
    },
    {
      "cell_type": "code",
      "source": [
        "browser = WebBrowser(start_url=\"https://jsjeong-me.github.io/ControPanel/\",headless=True) # False\n",
        "model = OpenAIPlannerModel(model=\"gpt-4o\")"
      ],
      "metadata": {
        "id": "PkOTFFtMqvDm"
      },
      "execution_count": 6,
      "outputs": []
    },
    {
      "cell_type": "markdown",
      "source": [
        "To automate the task of finding seven buttons on the specified site, clicking them in sequence (\"Speed 1\" through \"Speed 7\") with a 5-second interval, and then exiting, here's the step-by-step instruction in English:\n",
        "\n",
        "1. Open the Website\n",
        "  Launch a browser and navigate to the URL:\n",
        "  https://jsjeong-me.github.io/ControPanel/.\n",
        "\n",
        "2. Locate the Buttons\n",
        "  Identify seven buttons labeled from \"Speed 1\" to \"Speed 7\" on the webpage.\n",
        "\n",
        "3. Initiate Button Click Sequence\n",
        "\n",
        "  Start with the button labeled \"Speed 1.\"\n",
        "  Click the button.\n",
        "\n",
        "4. Wait Interval\n",
        "  After each button click, wait for 5 seconds before proceeding to the next button.\n",
        "\n",
        "5. Continue Clicking\n",
        "\n",
        "  Repeat the process for \"Speed 2,\" \"Speed 3,\" ..., up to \"Speed 7.\"\n",
        "  Ensure the same 5-second interval is maintained between clicks.\n",
        "\n",
        "6. Exit the Website\n",
        "  Once all seven buttons are clicked, close the browser to terminate the task."
      ],
      "metadata": {
        "id": "LMiBQt5M6YIa"
      }
    },
    {
      "cell_type": "code",
      "source": [
        "GET_SPEED = \"Speed 5\"\n",
        "task = f\"\"\"\n",
        "Instructions for clicking the {GET_SPEED} button:\n",
        "\n",
        "1. Open the Website\n",
        "   - Navigate to https://jsjeong-me.github.io/ControPanel/\n",
        "\n",
        "2. Locate Speed {GET_SPEED} Button\n",
        "   - Find the button specifically labeled {GET_SPEED} among the seven speed buttons\n",
        "   - Verify that this is the correct button before proceeding\n",
        "\n",
        "3. Click {GET_SPEED} Button\n",
        "   - Click only the {GET_SPEED} button\n",
        "   - Do not click any other speed buttons\n",
        "\n",
        "4. Verify Action\n",
        "   - Confirm that the fan speed is now set to {GET_SPEED}\n",
        "   - Ensure no other speed settings were changed\n",
        "\n",
        "5. Exit Website\n",
        "   - Close the browser after confirming the speed setting\n",
        "\"\"\""
      ],
      "metadata": {
        "id": "xtytez4AfELl"
      },
      "execution_count": 7,
      "outputs": []
    },
    {
      "cell_type": "code",
      "source": [
        "planner = Planner(model=model, web_browser=browser, task=task)"
      ],
      "metadata": {
        "id": "ql6y-r6Ws9eE"
      },
      "execution_count": 8,
      "outputs": []
    },
    {
      "cell_type": "code",
      "source": [
        "result = await planner.run(task=task)"
      ],
      "metadata": {
        "id": "Yiv-y-nOpbbM",
        "outputId": "5381aa9f-1743-4e26-8655-5da252941559",
        "colab": {
          "base_uri": "https://localhost:8080/"
        }
      },
      "execution_count": 9,
      "outputs": [
        {
          "output_type": "stream",
          "name": "stderr",
          "text": [
            "\u001b[32m2025-03-19 00:05:25.480\u001b[0m | \u001b[1mINFO    \u001b[0m | \u001b[36minterfaceagent.interface.planner\u001b[0m:\u001b[36mrun\u001b[0m:\u001b[36m254\u001b[0m - \u001b[1mWebBrowser not initialized. Initializing now.\u001b[0m\n",
            "\u001b[32m2025-03-19 00:05:27.216\u001b[0m | \u001b[1mINFO    \u001b[0m | \u001b[36minterfaceagent.interface.webbrowser\u001b[0m:\u001b[36minitialize\u001b[0m:\u001b[36m39\u001b[0m - \u001b[1mWebBrowser successfully initialized.\u001b[0m\n",
            "\u001b[32m2025-03-19 00:05:29.039\u001b[0m | \u001b[1mINFO    \u001b[0m | \u001b[36minterfaceagent.interface.planner\u001b[0m:\u001b[36mgenerate_plan\u001b[0m:\u001b[36m58\u001b[0m - \u001b[1mHigh-level plan: ['Navigate to https://jsjeong-me.github.io/ControPanel/', 'Find the button labeled Speed 5 among the speed buttons on the page', 'Click the Speed 5 button', 'Verify that the fan speed is set to Speed 5', 'Close the browser']\u001b[0m\n",
            "\u001b[32m2025-03-19 00:05:31.875\u001b[0m | \u001b[1mINFO    \u001b[0m | \u001b[36minterfaceagent.interface.webbrowser\u001b[0m:\u001b[36mget_interactive_elements\u001b[0m:\u001b[36m167\u001b[0m - \u001b[1mTotal interactive elements found: 7\u001b[0m\n",
            "\u001b[32m2025-03-19 00:05:32.838\u001b[0m | \u001b[1mINFO    \u001b[0m | \u001b[36minterfaceagent.interface.planner\u001b[0m:\u001b[36mnext_actions\u001b[0m:\u001b[36m106\u001b[0m - \u001b[1mNext actions: [{'action': 'click', 'selector': '#switch5', 'selector_type': 'css', 'value': '', 'url': ''}]\u001b[0m\n",
            "\u001b[32m2025-03-19 00:05:32.841\u001b[0m | \u001b[1mINFO    \u001b[0m | \u001b[36minterfaceagent.interface.planner\u001b[0m:\u001b[36mexecute_action\u001b[0m:\u001b[36m152\u001b[0m - \u001b[1mExecuting: action='click' selector='#switch5' value=''\u001b[0m\n",
            "\u001b[32m2025-03-19 00:05:35.676\u001b[0m | \u001b[1mINFO    \u001b[0m | \u001b[36minterfaceagent.interface.planner\u001b[0m:\u001b[36mcheck_task_complete\u001b[0m:\u001b[36m136\u001b[0m - \u001b[1mTask complete: {'status': True, 'reason': \"The task is complete because the Speed 5 button was successfully located and clicked, as indicated by the browser action history which shows a click on '#switch5'. The current content confirms that the fan speed is set to 5, matching the task's requirement to set the speed to Speed 5. Additionally, the current URL indicates that we are on the correct website. All steps of the high-level plan have been executed, including the verification of the fan speed setting.\"}\u001b[0m\n",
            "\u001b[32m2025-03-19 00:05:35.791\u001b[0m | \u001b[1mINFO    \u001b[0m | \u001b[36minterfaceagent.interface.planner\u001b[0m:\u001b[36mexecute_plan\u001b[0m:\u001b[36m221\u001b[0m - \u001b[1mTask completed successfully!\u001b[0m\n",
            "\u001b[32m2025-03-19 00:05:35.913\u001b[0m | \u001b[1mINFO    \u001b[0m | \u001b[36minterfaceagent.interface.webbrowser\u001b[0m:\u001b[36mclose\u001b[0m:\u001b[36m317\u001b[0m - \u001b[1mWebBrowser successfully closed and resources cleaned up.\u001b[0m\n"
          ]
        }
      ]
    },
    {
      "cell_type": "code",
      "execution_count": 10,
      "metadata": {
        "id": "zwYLrAQ_mbrM",
        "outputId": "cd05a6ee-7758-4747-e354-270a37cf2dff",
        "colab": {
          "base_uri": "https://localhost:8080/"
        }
      },
      "outputs": [
        {
          "output_type": "stream",
          "name": "stdout",
          "text": [
            "{'task': '\\nInstructions for clicking the Speed 5 button:\\n\\n1. Open the Website\\n   - Navigate to https://jsjeong-me.github.io/ControPanel/\\n\\n2. Locate Speed Speed 5 Button\\n   - Find the button specifically labeled Speed 5 among the seven speed buttons\\n   - Verify that this is the correct button before proceeding\\n\\n3. Click Speed 5 Button\\n   - Click only the Speed 5 button\\n   - Do not click any other speed buttons\\n\\n4. Verify Action\\n   - Confirm that the fan speed is now set to Speed 5\\n   - Ensure no other speed settings were changed\\n\\n5. Exit Website\\n   - Close the browser after confirming the speed setting\\n', 'page_content': {'content': 'Fan Speed: 5\\nSpeed 1\\nSpeed 2\\nSpeed 3\\nSpeed 4\\nSpeed 5\\nSpeed 6\\nSpeed 7', 'history': [('click', '#switch5', '')]}, 'page_screenshot': 'screenshot.png', 'status': 'completed', 'completion_reason': \"The task is complete because the Speed 5 button was successfully located and clicked, as indicated by the browser action history which shows a click on '#switch5'. The current content confirms that the fan speed is set to 5, matching the task's requirement to set the speed to Speed 5. Additionally, the current URL indicates that we are on the correct website. All steps of the high-level plan have been executed, including the verification of the fan speed setting.\"}\n"
          ]
        }
      ],
      "source": [
        "print(result)"
      ]
    },
    {
      "cell_type": "code",
      "execution_count": 11,
      "metadata": {
        "id": "0d9edmdumbrN",
        "outputId": "cb9d9a23-a2ab-4c94-bbf6-cf1ca05a3ea5",
        "colab": {
          "base_uri": "https://localhost:8080/",
          "height": 760
        }
      },
      "outputs": [
        {
          "output_type": "execute_result",
          "data": {
            "text/plain": [
              "<IPython.core.display.HTML object>"
            ],
            "text/html": [
              "<img src=\"data:image/png;base64,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\" />"
            ]
          },
          "metadata": {},
          "execution_count": 11
        }
      ],
      "source": [
        "import base64\n",
        "from IPython.display import HTML\n",
        "\n",
        "def display_image(file_path):\n",
        "    # Read the image file\n",
        "    with open(file_path, \"rb\") as image_file:\n",
        "        encoded_string = base64.b64encode(image_file.read()).decode()\n",
        "\n",
        "    # Create the HTML to display the image\n",
        "    html = f'<img src=\"data:image/png;base64,{encoded_string}\" />'\n",
        "\n",
        "    # Display the HTML\n",
        "    return HTML(html)\n",
        "\n",
        "# Usage\n",
        "display_image('screenshot.png')"
      ]
    }
  ],
  "metadata": {
    "kernelspec": {
      "display_name": "Python 3",
      "name": "python3"
    },
    "language_info": {
      "codemirror_mode": {
        "name": "ipython",
        "version": 3
      },
      "file_extension": ".py",
      "mimetype": "text/x-python",
      "name": "python",
      "nbconvert_exporter": "python",
      "pygments_lexer": "ipython3",
      "version": "3.10.14"
    },
    "colab": {
      "provenance": [],
      "gpuType": "T4",
      "include_colab_link": true
    },
    "accelerator": "GPU"
  },
  "nbformat": 4,
  "nbformat_minor": 0
}