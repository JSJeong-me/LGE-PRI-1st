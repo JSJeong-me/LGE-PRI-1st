{
  "cells": [
    {
      "cell_type": "markdown",
      "metadata": {
        "id": "view-in-github",
        "colab_type": "text"
      },
      "source": [
        "<a href=\"https://colab.research.google.com/github/JSJeong-me/LGE-PRI-1st/blob/main/interface-agents/interface_agents_button_click.ipynb\" target=\"_parent\"><img src=\"https://colab.research.google.com/assets/colab-badge.svg\" alt=\"Open In Colab\"/></a>"
      ]
    },
    {
      "cell_type": "markdown",
      "metadata": {
        "id": "BMBBK_P2mbrL"
      },
      "source": [
        "## Control Panel Switch Operation\n",
        "\n",
        "\n",
        "\n",
        "\n"
      ]
    },
    {
      "cell_type": "code",
      "source": [
        "!pip install interfaceagent"
      ],
      "metadata": {
        "id": "UDB9yOa6xn19"
      },
      "execution_count": null,
      "outputs": []
    },
    {
      "cell_type": "code",
      "source": [
        "!playwright install"
      ],
      "metadata": {
        "id": "tTza4GZ9xp8j"
      },
      "execution_count": null,
      "outputs": []
    },
    {
      "cell_type": "code",
      "source": [
        "!pip install httpx==0.27.2"
      ],
      "metadata": {
        "id": "l68gGx9SK-ur"
      },
      "execution_count": null,
      "outputs": []
    },
    {
      "cell_type": "code",
      "source": [
        "from google.colab import userdata\n",
        "import openai\n",
        "import os\n",
        "\n",
        "os.environ[\"OPENAI_API_KEY\"] = userdata.get('OPENAI_API_KEY')\n",
        "openai.api_key  = os.environ[\"OPENAI_API_KEY\"]"
      ],
      "metadata": {
        "id": "iVhbhSShmcbX"
      },
      "execution_count": 4,
      "outputs": []
    },
    {
      "cell_type": "code",
      "execution_count": 5,
      "metadata": {
        "id": "vYJBJc-JmbrM"
      },
      "outputs": [],
      "source": [
        "from interfaceagent import WebBrowser, Planner, OpenAIPlannerModel"
      ]
    },
    {
      "cell_type": "code",
      "source": [
        "browser = WebBrowser(start_url=\"https://jsjeong-me.github.io/ControPanel/\",headless=True) # False\n",
        "model = OpenAIPlannerModel(model=\"gpt-4o\")"
      ],
      "metadata": {
        "id": "PkOTFFtMqvDm"
      },
      "execution_count": 6,
      "outputs": []
    },
    {
      "cell_type": "markdown",
      "source": [
        "To automate the task of finding seven buttons on the specified site, clicking them in sequence (\"Speed 1\" through \"Speed 7\") with a 5-second interval, and then exiting, here's the step-by-step instruction in English:\n",
        "\n",
        "1. Open the Website\n",
        "  Launch a browser and navigate to the URL:\n",
        "  https://jsjeong-me.github.io/ControPanel/.\n",
        "\n",
        "2. Locate the Buttons\n",
        "  Identify seven buttons labeled from \"Speed 1\" to \"Speed 7\" on the webpage.\n",
        "\n",
        "3. Initiate Button Click Sequence\n",
        "\n",
        "  Start with the button labeled \"Speed 1.\"\n",
        "  Click the button.\n",
        "\n",
        "4. Wait Interval\n",
        "  After each button click, wait for 5 seconds before proceeding to the next button.\n",
        "\n",
        "5. Continue Clicking\n",
        "\n",
        "  Repeat the process for \"Speed 2,\" \"Speed 3,\" ..., up to \"Speed 7.\"\n",
        "  Ensure the same 5-second interval is maintained between clicks.\n",
        "\n",
        "6. Exit the Website\n",
        "  Once all seven buttons are clicked, close the browser to terminate the task."
      ],
      "metadata": {
        "id": "LMiBQt5M6YIa"
      }
    },
    {
      "cell_type": "code",
      "source": [
        "GET_SPEED = \"Speed 3\"\n",
        "task = f\"\"\"\n",
        "Instructions for clicking the {GET_SPEED} button:\n",
        "\n",
        "1. Open the Website\n",
        "   - Navigate to https://jsjeong-me.github.io/ControPanel/\n",
        "\n",
        "2. Locate Speed {GET_SPEED} Button\n",
        "   - Find the button specifically labeled {GET_SPEED} among the seven speed buttons\n",
        "   - Verify that this is the correct button before proceeding\n",
        "\n",
        "3. Click {GET_SPEED} Button\n",
        "   - Click only the {GET_SPEED} button\n",
        "   - Do not click any other speed buttons\n",
        "\n",
        "4. Verify Action\n",
        "   - Confirm that the fan speed is now set to {GET_SPEED}\n",
        "   - Ensure no other speed settings were changed\n",
        "\n",
        "5. Exit Website\n",
        "   - Close the browser after confirming the speed setting\n",
        "\"\"\""
      ],
      "metadata": {
        "id": "xtytez4AfELl"
      },
      "execution_count": 7,
      "outputs": []
    },
    {
      "cell_type": "code",
      "source": [
        "planner = Planner(model=model, web_browser=browser, task=task)"
      ],
      "metadata": {
        "id": "ql6y-r6Ws9eE"
      },
      "execution_count": 8,
      "outputs": []
    },
    {
      "cell_type": "code",
      "source": [
        "result = await planner.run(task=task)"
      ],
      "metadata": {
        "id": "Yiv-y-nOpbbM"
      },
      "execution_count": null,
      "outputs": []
    },
    {
      "cell_type": "code",
      "execution_count": 10,
      "metadata": {
        "id": "zwYLrAQ_mbrM",
        "outputId": "99dda598-805b-4342-a24d-47438579b1cf",
        "colab": {
          "base_uri": "https://localhost:8080/"
        }
      },
      "outputs": [
        {
          "output_type": "stream",
          "name": "stdout",
          "text": [
            "{'task': '\\nInstructions for clicking the Speed 3 button:\\n\\n1. Open the Website\\n   - Navigate to https://jsjeong-me.github.io/ControPanel/\\n\\n2. Locate Speed Speed 3 Button\\n   - Find the button specifically labeled Speed 3 among the seven speed buttons\\n   - Verify that this is the correct button before proceeding\\n\\n3. Click Speed 3 Button\\n   - Click only the Speed 3 button\\n   - Do not click any other speed buttons\\n\\n4. Verify Action\\n   - Confirm that the fan speed is now set to Speed 3\\n   - Ensure no other speed settings were changed\\n\\n5. Exit Website\\n   - Close the browser after confirming the speed setting\\n', 'page_content': {'content': 'Fan Speed: 3\\nSpeed 1\\nSpeed 2\\nSpeed 3\\nSpeed 4\\nSpeed 5\\nSpeed 6\\nSpeed 7', 'history': [('click', '#switch3', '')]}, 'page_screenshot': 'screenshot.png', 'status': 'completed', 'completion_reason': \"The task is complete because the Speed 3 button was successfully located and clicked, as indicated by the browser action history showing a click on '#switch3'. The current content 'Fan Speed: 3' confirms that the fan speed is set to Speed 3, verifying that no other speed settings were changed. The final step of closing the browser is implied as the task does not require further interaction after confirming the speed setting.\"}\n"
          ]
        }
      ],
      "source": [
        "print(result)"
      ]
    },
    {
      "cell_type": "code",
      "execution_count": 11,
      "metadata": {
        "id": "0d9edmdumbrN",
        "outputId": "7cb45a7a-0d47-4458-aa4f-7f2364e84b95",
        "colab": {
          "base_uri": "https://localhost:8080/",
          "height": 740
        }
      },
      "outputs": [
        {
          "output_type": "execute_result",
          "data": {
            "text/plain": [
              "<IPython.core.display.HTML object>"
            ],
            "text/html": [
              "<img src=\"data:image/png;base64,iVBORw0KGgoAAAANSUhEUgAABQAAAALQCAIAAABAH0oBAAAAAXNSR0IArs4c6QAAIABJREFUeJzs3XtYVNe9//HFcL8E0DNcFYhi4qigaWMThRlitNAcIbbFXDBRbALeQmqMxlZsLtrU1GOa2KRJinhBTIzXiJ5I6iVYI5xUJDTBGMQLVkUNQ1EZuc0wMPP7Y5/M4aeAMwMKzn6/nj59ZvZaa6/v7H/Mh733Wk51dXUCAAAAAABHp+jtAgAAAAAAuB0IwAAAAAAAWSAAAwAAAABkgQAMAAAAAJAFAjAAAAAAQBYIwAAAAAAAWSAAAwAAAABkgQAMAAAAAJAFAjAAAAAAQBYIwAAAAAAAWSAAAwAAAABkgQAMAAAAAJAFAjAAAAAAQBYIwAAAAAAAWSAAAwAAAABkgQAMAAAAAJAFAjAAAAAAQBYIwAAAAAAAWSAAAwAAAABkgQAMAAAAAJAFAjAAAAAAQBYIwAAAAAAAWSAAAwAAAABkgQAMAAAAAJAFAjAAAAAAQBYIwAAAAAAAWSAAAwAAAABkwaW3CwAA9KQJEyb0dgmAQykoKOjtEgAAPYY7wAAAAAAAWeAOMAA4oK+++qq3SwDueKNHj+7tEgAAPYw7wAAAAAAAWSAAAwAAAABkgQAMAAAAAJAFAjAAAAAAQBYIwAAAAAAAWSAAAwAAAABkgQAMAAAAAJAFAjAAAAAAQBYIwAAAAAAAWSAAAwAAAABkgQAMAAAAAJAFAjAAAAAAQBYIwAAAAAAAWSAAAwAAAABkgQAMAAAAAJAFAjAAAAAAQBYIwAAAAAAAWSAAAwAAAABkgQAMAAD+l7+/v5OT07x583q7EAAAbgkCMAAAAABAFlx6uwAAgEydPn36nnvusaanUqn897//fesrssrOnTt37Nhx7ty577//XqvVmkymoKAgpVIZHh4+adKkqVOn9naBfcKJEydWrlx57Nixc+fOXblyJTo6etiwYWq1etq0aW5ubr1dHQBAvgjAAABYpaWlJSMjY82aNdcdb2hoqKysLC4u3rZt26FDh7KyshQKWT9gdejQoeTk5MuXL1uOFBcXFxcXr1+/fvny5bm5uTExMb1aIABAvgjAAIBe9vTTT6enp3fRwcWlT/xr9eSTT+7cuVMI8cgjjzz33HORkZEREREtLS1nz5796quv1qxZc+TIkdWrV1+5cmX79u29XWyvKS8vnzRpkk6nc3Nze+KJJx566KHw8PCKiooDBw7s2rXr9OnTycnJR48eDQwM7O1KAQBy1Cf+kwIAIGcDBgwYN25cb1dxEwcPHpTSb3Jy8tatW52dnaXj3t7e/fr1+9GPfvSrX/3q0Ucf3bt37yeffFJQUDBhwoTeLrl3vPbaazqdTqFQ7N69Oz4+XjqYkJAwd+7cN95443e/+51Wq83Jyfntb3/b25UCAORI1s9oAQDuRCaT6Q9/+EN8fPzw4cP9/f39/f2joqImT578zTff3Nh57NixTk5O8+fPF0L885//TEtLi46O9vb2HjRo0E9/+tN9+/ZZOenRo0elD6+88ool/bbn6ur63nvvhYaGJiYmXrt2zXJ8xIgRTk5Oc+fOFUJ89913s2bNioqKuuuuux544IG0tLQjR450OF1ra+vmzZtnzJgxZswYX1/fYcOGTZo06bXXXrt69WqP9P/HP/7xzDPP3H///X5+fg8++OBrr72m1Wo7++333nuvk5PTvffee7OLJEwmU01NzcCBA1NSUizp1+LFF1+UXgA+duzYTU8FAMCtwB1gAMCdpLGx8cknn8zPz29/UKfTfffddzt27HjvvfcyMjLaN0mJq6mpad++fY8++mhLS4t0/OzZs2fPni0oKFi7du2zzz5703nr6+ulD76+vp31GTJkyMWLF6876OrqKg3PycmZN2+eJRuXlJSUlJR8+OGHn3322U9/+tP2Q86dO/f444+XlJRYjlRUVFRUVHz66adr167dv3//sGHDutN/8+bNzzzzjF6vl74eOXJEenj7008/dXJyuuml6IJCofjiiy86a3V1dXVxcWlpafH29u7OLAAA2I07wACAO8nrr78upd+5c+dqtVqz2Xzp0qUdO3bcd999QojMzMzz58+37y+9P3z27Nknn3xy0qRJX331VVNT0+nTp99//32p6dVXX21tbb3pvJYM+e6779pUsDTLsWPH0tPTn3zyyeLiYp1OV1JSsmjRIoVCYTQa22dRKeFPmjSppKQkICDg97///ddff93U1FRRUfHmm2/eddddFy9efPTRRw0Gg939z58/P2XKFL1eHxkZuWfPnrq6un//+99ffPFFRETE9OnTbfppttqwYUNTU5MQQrbPhwMAeh0BGABwx2htbV21apX0YPM777wjLaQUEhLyy1/+cuvWrQqFor6+fvPmze2HSAsy7927d9y4cVu3br3//vs9PT0jIyOfe+65X//610KIixcvfvfddzedetKkSdKmTe+8887jjz9eUFDQPrV2QSrgq6++Gj9+/KpVqx544AFfX9/Ro0f/8Y9/fP/994UQFy5c2LRpk6X/+vXrjx496uLismfPnldeeeW+++7z9PQcOnToSy+9JK2tVVlZ2X4lalv7S5/d3Nz+9re//exnP/Pz81MqlXFxcQUFBQqFoq6u7safcPLkSbPZfPLkSWt+b4cuXry4bNmyWbNmCSGmTJkyefJku08FAEB3EIABAHcMFxeXs2fPVlRUfPTRR9c13XPPPVJAraio6HDs66+/ft3zvY888oj04V//+pc1U+fk5ISFhQkhtm/f/tOf/rR///7x8fGvvPLKgQMHLE9Wd+H3v//9dQXMmDHjrrvuEkLs3r3bcnDjxo1CiMTExB//+MfXnSEhIUF6sfbDDz+0r39ra2t2drYQYvz48ddtwuzl5TVv3ryb/gqbTJs2zcnJycnJaeDAgb///e8feuihDz74YOPGjTLfJgoA0It4BxgA0MsuXrx48ODBLjqEhoZaVmDy8/Pz8/PrsFv//v2lR3xvbAoLC4uKirruYEhIiPShw9ueN4qNjf3Xv/61bdu2pUuXVlRUNDc3f/75559//vkf/vCHu+66a8KECYmJiU8//bSnp+eNY319fceOHXvdQWdn5x//+MdffPGFZYWt+vp66VXeMWPGdFjDQw89tH///uLiYoPB4O7ubmv/kydPSotdSU+M39jZmutgt7a2tgEDBnTzNWMAALqDAAwA6GUbN26UbmN2JiMj47333rN8bWtr27dvX0lJyYULF77//nvLo8jHjx+XFiK+8QyhoaE3HpSWp+psSIecnZ1TUlJSUlKOHj362Wefff755yUlJdeuXauvr9+5c+fOnTv/9Kc/ffzxxzfejB0+fHiHJxw4cKC0ipX09cyZM9ILyZmZmZmZmV1Ucv78+XvuucfW/pYluCIiIm7s0+HB7sjMzExLS6uqqvr2228//fTTgwcPHjx4cPLkybm5uayDBQDoFQRgAMCd5PTp048//niHOx51QVoLugeNHDly5MiRixYtMpvN33777Zdffrlq1apvvvnmxIkT48aN+8c//jFixIj2/X18fDo8j3TcaDQ2NTV5eXlZeS9aCCHtb2Rr/4aGBulrh/nTxcXFx8fH0qf7hg8fbkn+K1asWLly5fz58z/55JPw8PC33367p2YBAMB6vIQDAOhlv/nNb8xdstz+1Wq1CQkJ33zzzX/8x3+89tprO3furKysbG1tlbrd+IzxbeDk5DRy5MjZs2eXlJQsXrxYeoz5+eefv65bZwnc8jyw9Fqsu7u79HX16tVdX5MHHnjAjv6Wm95ms7nDeqxc2cs+L774orTjVFZWVmNj462bCACAzhCAAQB3jNzcXGnBqr/+9a9Lliz5+c9/PnjwYGdnZ6m1/WY/t5+Li8uyZcukHX0PHjyo0+nat0rb/9xIeibZxcXFw8NDCHH33XdLxy9fvmzNpLb2t7z23NzcfGNrXV2dNTtCdcf9998vzV5eXn5LJwIAoEMEYADAHePIkSNCiICAgBv30TEajd3Zp6drra2tZWVlubm5lpd1O/OjH/1I+mB521bS2ULTFy5caJ9jg4KCvLy8hBBW5kNb+wcHB0sfqqqqbmy1ZjXsrv39738fNWpUYGBgXl5ehx0sd5gtf7YAAOB2IgADAO4Y0n3UkJCQG/fR+eSTT3rw5dXrfP311/fdd9+vfvWrFStWdN3TEkSVSmX74+fOnTt9+vR1nRsbG7/66ishxLBhw6QjTk5OkZGRQog9e/Z0eNO4sLCwtLTU8tXW/r6+viNHjhRCFBcX39j5888/7/rX3dTAgQOPHj3673//+3/+53867CBtuezi4mJZ1hsAgNuJAAwAuGNId0qrqqra2traH6+url64cKG0PVJ9fX2Pz/uTn/xE2iLogw8+aL8e9XVWrlyZn58vhPjP//zPGzdDeuONN647smXLFim1tt9/KDU1VQhRU1OzaNGi6/pXV1dPnz599OjRM2fOtLt/SkqKlHX/+c9/Xtf5pvH+pu655x4pzH/00Uc3LlT22WefrV+/Xggxbty4zlYFAwDgliIAAwDuGA8//LC0oPFLL73U0tIivfe7Z8+eCRMmjBo16vHHHxdClJWVnTlzpsenzsrKGjBggBDi17/+dVpa2h//+Mfdu3cf/MGaNWtGjBgxf/58IYSHh8frr79+3fAHH3xwy5Ytv/rVr6Rnnk0m02effSZF1gEDBqSnp1t6vvjiiz/5yU+EEH/5y1+mTZu2b9++hoaGEydOfPDBBzExMf/61788PT3bL7Jla/8pU6ZIH6ZOnSrtISyE+OqrryZNmhQUFBQUFHTjb7/33nudnJysvGe7bNkyabmysWPHvvDCC3/7298OHDiwdu3aqVOnJiYmmkwmhUKxZMkSGy8/AAA9g22QAAB3jMcffzwhIWHfvn1//vOf//znP1uOP/roo5s2bdq2bduaNWuMRqP0VLDRaHRx6bF/5lQq1f79+5OTkysqKtatW9dZtyFDhuTm5kpLPbUXHh6enp7+3HPP5ebmtj/u6uq6fv166d61xNnZ+dNPP01PT9+9e/dHH3300Ucfte9/1113ZWdnS48x29f/7rvvzs3NTUtLO378uLQ0tCQkJOTTTz+dOnWqVqu1fmPkG/3yl7/88MMPZ8yYodfr33333Xffffe6DitXroyNjbX7/AAAdAcBGABwJ9m9e/frr7/+3//932fOnKmvr3/wwQefeuqp559/XqFQPP3000ePHs3Kympubu7Xr59lh6GeMmzYsPLy8n379n344YcnTpy4fPmyVqv19vaOjIwcPHjwvffeO3LkyISEhA632G1paUlPTx8zZsyqVasOHjx44sQJo9E4YcKEN954o30KlQQFBX366acbNmwoKCg4ceLE0aNHm5ubQ0NDf/GLX2RmZg4cOLCb/VNTU+++++5169aVlZVVVlYOGzZs4sSJs2fPDgoKkqJ4N9fTnjp16kMPPbRhw4bS0tKTJ0+eO3du0KBBKpXqxz/+cXx8/I1/HQAA4LZxqqur6+0aAAA9ZsKECdITrb1dCP7XAw88UFJSkpSU9Omnn/Z2LbDN6NGjhRAFBQW9XQgAoMfwDjAAAAAAQBYIwAAAAAAAWSAAAwAAAABkgQAMAAAAAJAFAjAAAAAAQBbYBgkAgFvoyJEjvV0CAAD4X9wBBgAAAADIAgEYAAAAACALBGAAAAAAgCwQgAEAAAAAskAABgAAAADIAgEYAAAAACALBGAAAAAAgCwQgAEAAAAAskAABgAAAADIAgEYAAAAACALBGAAAAAAgCwQgAEAAAAAskAABgAAAADIAgEYAAAAACALBGAAAAAAgCy49HYBAICeN3r06N4uAQAAoM/hDjAAAAAAQBac6urqersGAAAAAABuOe4AAwAAAABkgQAMAAAAAJAFAjAAAAAAQBYIwAAAAAAAWSAAAwAAAABkgQAMAAAAAJAFAjAAAAAAQBYIwAAAAAAAWSAAAwAAAABkgQAMAAAAAJAFAjAAAAAAQBYIwAAAAAAAWSAAAwAAAABkgQAMAAAAAJAFAjAAAAAAQBYIwAAAAAAAWSAAAwAAAABkgQAMAAAAAJAFAjAAAAAAQBYIwAAAAAAAWSAAAwAAAABkgQAMAAAAAJAFAjAAAAAAQBYIwAAAAAAAWSAAAwAAAABkgQAMAAAAAJAFAjAAAAAAQBYIwAAAAAAAWSAAAwAAAABkgQAMAAAAAJAFAjAAAAAAQBYIwAAAAAAAWXDp7QIAALgdGhsbDQaDwWDQ6/VtbW12n8fFxcX9B97e3j1aIwAAuLWc6urqersGAABuIaPRqNVqhRB+fn7e3t4+Pj5CiIaGhsbGRp1Op9fr7T6zh4dHUFCQq6trj9YLAABuFQIwAMCRXbt27fLly8HBwcHBwR12qK6uvnTpktlstu/8CoVCqVT6+vp2r0wAAHA78A4wAMBh6XS6+vp6lUrVWfoVQgQHB6tUKk9PT/umMJlMNTU1Op3OjrFbtmxJSUmJiooKCwuLj49ftmzZ1atX7SvDVpmZmXFxcZ21njhxYuzYsZGRkbenGAAAbhsCMADAMRmNxitXrkRGRnp4eHTd08vLKzIy0snJye65amtrjUajTUNWrlw5b968mJiYrKysTZs2TZs2bd26dZMnT25ubra7jB6Rl5cXHx+vUPBfCAAAB8Q/bwAAB2Q2m7VabWhoqLu7uzX93d3dQ0NDuzmdTc9R5+bmZmRkzJ07V61Wq9Xq1NTUDz/8sLq6urS01O4yekRmZuYHH3zwxBNP9G4ZAADcCgRgAIADMhgMzs7OgYGB1g8JDg7uzqrOer3eYDBY3//GwBwTE1NeXq5Wq4UQqamp6enpK1asGDhwYEhISEJCwrFjxyw9N2/ePHHixIiIiMTExFWrVrU/T2dNDQ0NqampERERSUlJ27Zt66Kw3bt3JyUl2fLTAQC4YxCAAQAOyGAwBAUF2ToqICCgm5Na31mtVq9evTo7O/vUqVM3trq6uhYWFgohqqqqiouLAwMDp0+fLu3elJeXN3v27JEjR5aWli5atCg7O/vll1+WRnXRtGDBgjNnzuTl5eXk5FRUVOzdu7ezwoYMGWL7TwcA4M7AKtAAAAdUXV0dHh5u69JWjY2NFRUVdk/q4+PTxWpb17l69erChQu3b98uhPD399doNHPmzImJiZFa09LS9u/fX1lZKe2xdPTo0bi4uPz8/NjY2OTkZJPJtHPnTqnn1q1bMzIyjh8/rlQqO2tqbW1VqVRZWVkpKSlSk0ajcXJyOnToUGflvfPOO++++25lZaXdVwMAgD6IO8AAAAdkMBjc3NxsHXXT5bJuOqn1nfv167dmzZrCwsKlS5fGxsaWl5dPnDhRo9FY9iWOioqy7DA8ePBgIcSpU6dMJtPhw4fHjRtnOY9arTYajcXFxV00nT17VggxdOhQS9OoUaO680sBALhDEYABAA7IZDLZsbWv3bsBWya1dUh0dPQLL7ywcePGI0eOvP32299+++3atWulpvZp3MvLS9rTWK/XNzU1LVmyxP8Hw4cPF0LU1NR00STtrtT+DefuvO0MAMCdy6W3CwAAoOe5u7s3NTX5+vraNKqpqambk1rZ02g0njx5csSIEZYjzs7Ozz777Pr168vKyqQj9fX11xXm5eXl5eXl7+8/ZcqUxMTE9iccNGhQF01VVVVCiPYbLLU/OQAA8kEABgA4oD4egAsKClJSUnbs2DF+/HjLwebmZq1Wq9FopK9lZWVXrlzp37+/9FkIoVKppKeXdTqdtFi0EKKlpeX8+fPSHk6dNUmb+paUlEhPPre0tBw8eFCpVHbnxwIAcCfiEWgAgANyc3Orra216ZFms9lcW1vbzUmt7BkfHz9hwoT09PScnJyioqKioqJdu3YlJCQoFIpZs2ZJfQICAhYvXqzT6XQ63VtvvRUZGTl27Fhpn978/PyPP/5Yeul35syZycnJ0uvHnTWFhIRoNJrly5dXVlbq9fo5c+Y4OTl1WNjVq1eles6fP9/a2ip9PnnyZHcuCwAAfQerQAMAHJDJZLpw4YJSqQwJCbFyyMWLF6urq+2e0c3NbeDAgdK9Vms0Njbm5OTs27fv1KlT33//fUBAQHx8/G9/+9uIiAhpFehr167FxMS8/fbb9fX199xzT05OTlRUlDS2srLy3Xff3bNnT2Nj44MPPvjKK6/cd999XTedP3/+N7/5zZdffqnX66dNm6ZUKj/77DNpp6X2CgoKJk+efN3BadOm/eUvf7H7ygAA0HcQgAEAjslgMFy4cEGlUkkrSHWtqanp+PHj3ZkuLCzM+kegbyotLU2n00mbJAEAgJ7CI9AAAMfk7u6uVCrPnTtnTWdpoyC7BQQE9GD6BQAAtwiLYAEAHJafn58Q4uuvvw4JCQkODu6wT3V19aVLl+zeAEmhUCiVSltX2wIAAL2CR6ABAA7OaDTW1NSYzWY/Pz9vb28fHx8hRENDQ2Njo06n0+v1dp/Z09MzKCjIxYW/JgMAcGcgAAMAZMFoNDY3Nzc3N+v1eqPRaPd5XF1dPTw8PD09PTw8rF/2GQAA9AUEYAAAAACALLAIFgAAAABAFgjAAAAAAABZIAADAAAAAGSBAAwAAAAAkAUCMAAAAABAFgjAAAAAAABZIAADAAAAAGSBAAwAAAAAkAUCMAAAAABAFgjAAAAAAABZIAADAAAAAGSBAAwAAAAAkAUCMAAAAABAFgjAAAAAAABZIAADAAAAAGSBAAwAAAAAkAUCMAAAAABAFgjAAAAAAABZIAADAAAAAGSBAAwAAAAAkAUCMAAAAABAFgjAAAAAAABZIAADAAAAAGSBAAwAAAAAkAUCMAAAAABAFlx6uwAAAG6HxsZGg8FgMBj0en1bW5vd53FxcXH/gbe3d4/WCAAAbi2nurq63q4BAIBbyGg0arVaIYSfn5+3t7ePj48QoqGhobGxUafT6fV6u8/s4eERFBTk6urao/UCAIBbhQAMAHBk165du3z5cnBwcHBwcIcdqqurL126ZDab7Tu/QqFQKpW+vr7dKxMAANwOvAMMAHBYOp2uvr5epVJ1ln6FEMHBwSqVytPT074pTCZTTU2NTqezY+yWLVtSUlKioqLCwsLi4+OXLVt29epV+8qwVWZmZlxcXIdN5eXlKSkp99xzz/Dhw6dOnVpSUnJ7SgIA4DYgAAMAHJPRaLxy5UpkZKSHh0fXPb28vCIjI52cnOyeq7a21mg02jRk5cqV8+bNi4mJycrK2rRp07Rp09atWzd58uTm5ma7y+i+y5cvp6Sk6PX6tWvXZmVlXbly5fHHH798+XIvlgQAQA9iESwAgAMym81arTY0NNTd3d2a/u7u7qGhoRcvXuzOdAMGDLA+Refm5mZkZMydO1f6qlarhwwZkp6eXlpaqlar7Suj+3Jzc69du7Zp0ybplnhAQMDYsWOLiop+/vOf91ZJAAD0IO4AAwAckMFgcHZ2DgwMtH5IcHBwd1Z11uv1BoPB+v5arfa6F49jYmLKy8ul9Juampqenr5ixYqBAweGhIQkJCQcO3bM0nPz5s0TJ06MiIhITExctWpV+/N01tTQ0JCamhoREZGUlLRt27bOqsrIyNi7d6/lgfCwsDBpAW1brgQAAH0XARgA4IAMBkNQUJCtowICAro5qfWd1Wr16tWrs7OzT506dWOrq6trYWGhEKKqqqq4uDgwMHD69OnS7k15eXmzZ88eOXJkaWnpokWLsrOzX375ZWlUF00LFiw4c+ZMXl5eTk5ORUXF3r17O6zK3d196NChlq+fffaZECI6OtrGKwEAQB/FKtAAAAdUXV0dHh5u69JWjY2NFRUVdk/q4+PTxWpb17l69erChQu3b98uhPD399doNHPmzImJiZFa09LS9u/fX1lZKe2xdPTo0bi4uPz8/NjY2OTkZJPJtHPnTqnn1q1bMzIyjh8/rlQqO2tqbW1VqVRZWVkpKSlSk0ajcXJyOnToUBcVXr58OTY2Vq1Wr1mzxu5rAgBAn8IdYACAAzIYDG5ubraOuulyWTed1PrO/fr1W7NmTWFh4dKlS2NjY8vLyydOnKjRaCz7EkdFRVl2GB48eLAQ4tSpUyaT6fDhw+PGjbOcR61WG43G4uLiLprOnj0rhGh/a3fUqFFdl3fu3LlJkyaNGTPm/ffft/5HAQDQxxGAAQAOyGQy2bG1r927AVsmtXVIdHT0Cy+8sHHjxiNHjrz99tvffvvt2rVrpab2adzLy0va01iv1zc1NS1ZssT/B8OHDxdC1NTUdNEk7a7U/g3nrt92LioqmjBhwqBBg1atWmXlKmIAANwRWAUaAOCA3N3dm5qafH19bRrV1NTUzUmt7Gk0Gk+ePDlixAjLEWdn52effXb9+vVlZWXSkfr6+usK8/Ly8vLy8vf3nzJlSmJiYvsTDho0qIumqqoqIUT7DZban/w60j7AU6ZMefPNN638OQAA3CkIwAAAB9THA3BBQUFKSsqOHTvGjx9vOdjc3KzVajUajfS1rKzsypUr/fv3lz4LIVQqlfT0sk6ns2yV1NLScv78+dDQ0C6aFAqFEKKkpER68rmlpeXgwYNKpbLDK5Cenv7II4/813/9V3cuBQAAfROPQAMAHJCbm1ttba1NjzSbzeba2tpuTmplz/j4+AkTJqSnp+fk5BQVFRUVFe3atSshIUGhUMyaNUvqExAQsHjxYp1Op9Pp3nrrrcjIyLFjxwohMjMz8/PzP/74Y+ml35kzZyYnJ0uvH3fWFBISotFoli9fXllZqdfr58yZ09l+xWvWrDl16tSTTz755ZdfFv3g9OnT3bksAAD0HQRgAIAD8vb2NpvN1dXV1g+5dOmSTatYXcfNzc36bYSdnZ03bNgwf/78vLy8GTNmJCUlvfTSS9HR0Xv27AkPD5f6DB8+fOjQoVFRUREREVVVVbm5uc7OzkKIMWPGHDhwoLi4eNiwYY899lh9ff2GDRukF4a7aHr//fdHjx798MMPh4eH+/v7T506tcO/DpRwhjzDAAAgAElEQVSWlhqNxscffzypnVWrVtl9WQAA6FPYBgkA4JgMBsOFCxdUKpW0glTXmpqajh8/3p3pwsLCenC9qLS0NJ1OJ22SBAAAegp3gAEAjsnd3V2pVJ47d86aztJGQXYLCAhgtWQAAPo+FsECADgsPz8/IcTXX38dEhISHBzcYZ/q6upLly7ZvQGSQqFQKpW2rrYFAAB6BY9AAwAcnNForKmpMZvNfn5+3t7ePj4+QoiGhobGxkadTqfX6+0+s6enZ1BQkIsLf00GAODOQAAGAMiC0Whsbm5ubm7W6/VGo9Hu87i6unp4eHh6enp4eFi/7DMAAOgLCMAAAAAAAFlgESwAAAAAgCwQgAEAAAAAskAABgAAAADIAgEYAAAAACALBGAAAAAAgCwQgAEAAAAAskAABgAAAADIAgEYAAAAACALBGAAAAAAgCwQgAEAAAAAskAABgAAAADIAgEYAAAAACALBGAAAAAAgCwQgAEAAAAAskAABgAAAADIAgEYAAAAACALBGAAAAAAgCwQgAEAAAAAskAABgAAAADIAgEYAAAAACALBGAAAAAAgCwQgAEAAAAAskAABgAAAADIAgEYAAAAACALBGAAAAAAgCy49HYBAADcDntOu5RWu5Rpncu0ztpGJ7vPE+xtHhXUNiqo7cfBrY8Mae3RGgEAwK3lVFdX19s1AABwC52tc5qZ73Xkkv1/840KFP95r3gwTIwJE0KIw1XicJXYc1J4ubRmJzbd7W/uyXIBAMAtQwAGADiyDUfdFv/ds6HFzuEeLmLJePGSWjjf8M5Qm0msKBQrCsUfxjVPjbZ3AgAAcBvxDjAAwGGt+8Zt7l770++oYPHN8+K3cR2kXyGEs0JkPiQOpIm1ZZ7rvnGz4/xbtmxJSUmJiooKCwuLj49ftmzZ1atX7azVRpmZmXFxcR02lZSUTJ8+/d577x0xYsSUKVOKiopuT0kAANwGBGAAgGP6V53i5YMedg/3dhWfPCWGKm/S7UchYtsUsbTQ4191tv2TunLlynnz5sXExGRlZW3atGnatGnr1q2bPHlyc3Oz3TV33+nTp5OTk3U63ZIlS+bOnVtVVfXUU0/V1NT0YkkAAPQgFsECADggk1nMyvdsMtq/2NWyeBHZ36qekf1FZpzT7HzPvz3VqLB6wtzc3IyMjLlz50pf1Wr1kCFD0tPTS0tL1Wq13WV306pVq0JDQ3fs2KFQKIQQDz/88AMPPPDll1/+4he/6K2SAADoQdwBBgA4oNLvnbuz6lVMuPj1WBv6L9QIFxeX0u+drR+i1WrN5v9v9ayYmJjy8nIp/aampqanp69YsWLgwIEhISEJCQnHjh2z9Ny8efPEiRMjIiISExNXrVrV/jydNTU0NKSmpkZERCQlJW3btq2zqt58883i4mIp/Qoh3NzcLP8PAIADIAADABzQV9936xGnuWOF9fdyhRAKJzHjJ7ZNqlarV69enZ2dferUqRtbXV1dCwsLhRBVVVXFxcWBgYHTp09va2sTQuTl5c2ePXvkyJGlpaWLFi3Kzs5++eWXpVFdNC1YsODMmTN5eXk5OTkVFRV79+69aYVnz559/vnnH3rooQkTJlj/uwAA6MtYBRoA4ICe/dRrR4Wr3cO/eV6MCrZtSHGVWPGFcd2jTVb2v3r16sKFC7dv3y6E8Pf312g0c+bMiYmJkVrT0tL2799fWVnp6uoqhDh69GhcXFx+fn5sbGxycrLJZNq5c6fUc+vWrRkZGcePH1cqlZ01tba2qlSqrKyslJQUqUmj0Tg5OR06dKjD2oqKipKSkoQQP/nJT7Zt2+bv72/btQAAoK/iDjAAwAF18w7w3bYnPlWAbZP269dvzZo1hYWFS5cujY2NLS8vnzhxokaj0ev1UoeoqCgp/QohBg8eLIQ4deqUyWQ6fPjwuHHjLOdRq9VGo7G4uLiLprNnzwohhg4damkaNWpUF7VFR0fv3r173bp1165de/TRR1kECwDgMAjAAAAHpDd2b3irPUPsmDQ6OvqFF17YuHHjkSNH3n777W+//Xbt2rVSk4fH/y1h7eXlJYS4du2aXq9vampasmSJ/w+GDx8uhKipqemiSdpdydvb23LC9p9v5Ofnp1ark5OTCwoKtFrtunXrbP5hAAD0SawCDQBwQNGBbQVn7f837pvvxc/usXlIdGCblZ2NRuPJkydHjBhhOeLs7Pzss8+uX7++rKxMOlJfX29pbWpqkmKwl5eXv7//lClTEhMT259w0KBBXTRVVVUJIdpvsNT+5O39/e9/N5vN48ePl776+PgMGjTo5MmTVv4uAAD6OAIwAMAB9fEAXFBQkJKSsmPHDkvUlAKqVqvVaDTS17KysitXrvTv31/6LIRQqVTS08s6nc6yVVJLS8v58+dDQ0O7aJJWdS4pKZGefG5paTl48KBS2cEex9nZ2bW1tZaqmpubT58+PXr0aNuuBQAAfRWPQAMAHJD1WbRDOf8UBluegm5pE2tLbZg0Pj5+woQJ6enpOTk5RUVFRUVFu3btSkhIUCgUs2bNkvoEBAQsXrxYp9PpdLq33norMjJy7NixQojMzMz8/PyPP/5Yeul35syZycnJBoOhi6aQkBCNRrN8+fLKykq9Xj9nzhwnp44XuZ4xY0ZJScnixYulqmbNmmU0GqdPn27DtQAAoA8jAAMAHNAjkcbhSvsz8IlasbzjBZI79lqBcBZt/znE2peAnZ2dN2zYMH/+/Ly8vBkzZiQlJb300kvR0dF79uwJDw+X+gwfPnzo0KFRUVERERFVVVW5ubnOzs5CiDFjxhw4cKC4uHjYsGGPPfZYfX39hg0bpBeGu2h6//33R48e/fDDD4eHh/v7+0+dOvW6XYgl48ePX716tbQKdFJSUl1d3ebNm++9914brgUAAH0Y2yABABzTd/9WjNvgYzTZsp9vO+7O4n9mivsH3Lzn19+LsVnmg6kNw5Qm++a6UVpamk6nkzZJAgAAPYU7wAAAxzQiwPT7cQa7hxvaxKxdou1mkbbNJNJ2iCUPGXow/QIAgFuEAAwAcFhz7jesjG/2cbNzeOkl4blE/PGLjmNwm0n81yER9EfzzPua5txvf9IGAAC3DY9AAwAc3Hmd03N/8yqqsn9R6KhA8ci9YkyYGBMmhBCHq0RxlfjbSeHv3ro6qSnEp4OXaQEAQB9EAAYAyMLpK4ovL7hI/zuvs/PFYCFEmK85ZmBrTFhrzMDWe/rz2DMAAHcSAjAAAAAAQBZ4BxgAAAAAIAsEYAAAAACALBCAAQAAAACyQAAGAAAAAMgCARgAAAAAIAsEYAAAAACALBCAAQAAAACyQAAGAAAAAMgCARgAAAAAIAsEYAAAAACALBCAAQAAAACyQAAGAAAAAMgCARgAAAAAIAsEYAAAAACALBCAAQAAAACyQAAGAAAAAMgCARgAAAAAIAsEYAAAAACALBCAAQAAAACyQAAGAAAAAMgCARgAAAAAIAsEYAAAAACALBCAAQAAAACyQAAGAAAAAMgCARgAAAAAIAsuvV0AAAC3Q2Njo8FgMBgMer2+ra3N7vO4uLi4/8Db27tHawQAALeWU11dXW/XAADALWQ0GrVarRDCz8/P29vbx8dHCNHQ0NDY2KjT6fR6vd1n9vDwCAoKcnV17dF6AQDArUIABgA4smvXrl2+fDk4ODg4OLjDDtXV1ZcuXTKbzfadX6FQKJVKX1/f7pUJAABuB94BBgA4LJ1OV19fr1KpOku/Qojg4GCVSuXp6WnfFCaTqaamRqfT2TF2y5YtKSkpUVFRYWFh8fHxy5Ytu3r1qn1l2CozMzMuLq7rPuvXr/f39//oo49uT0kAANwGBGAAgGMyGo1XrlyJjIz08PDouqeXl1dkZKSTk5Pdc9XW1hqNRpuGrFy5ct68eTExMVlZWZs2bZo2bdq6desmT57c3Nxsdxk9SKvVLlmyxMWFtUIAAA6FAAwAcEBms1mr1YaGhrq7u1vT393dPTQ0tJvT2fQcdW5ubkZGxty5c9VqtVqtTk1N/fDDD6urq0tLS+0uowe9+uqrsbGxfn5+vV0IAAA9iQAMAHBABoPB2dk5MDDQ+iHBwcHdWdVZr9cbDAbr+98YmGNiYsrLy9VqtRAiNTU1PT19xYoVAwcODAkJSUhIOHbsmKXn5s2bJ06cGBERkZiYuGrVqvbn6aypoaEhNTU1IiIiKSlp27ZtXdf297///bPPPluxYoX1PwcAgDsCARgA4IAMBkNQUJCtowICAro5qfWd1Wr16tWrs7OzT506dWOrq6trYWGhEKKqqqq4uDgwMHD69OnS7k15eXmzZ88eOXJkaWnpokWLsrOzX375ZWlUF00LFiw4c+ZMXl5eTk5ORUXF3r17Oyusubn5xRdf/N3vfjdgwADbrwEAAH0aq0ADABxQdXV1eHi4rUtbNTY2VlRU2D2pj49PF6ttXefq1asLFy7cvn27EMLf31+j0cyZMycmJkZqTUtL279/f2VlpbTH0tGjR+Pi4vLz82NjY5OTk00m086dO6WeW7duzcjIOH78uFKp7KyptbVVpVJlZWWlpKRITRqNxsnJ6dChQzcW9uqrr37xxRcHDhxwdnaOjIxcunTp1KlT7b4mAAD0KdwBBgA4IIPB4ObmZuuomy6XddNJre/cr1+/NWvWFBYWLl26NDY2try8fOLEiRqNxrIvcVRUlGWH4cGDBwshTp06ZTKZDh8+PG7cOMt51Gq10WgsLi7uouns2bNCiKFDh1qaRo0a1WFVx48fz8rKeuedd5ydnW2/AAAA9HUEYACAAzKZTHZs7Wv3bsCWSW0dEh0d/cILL2zcuPHIkSNvv/32t99+u3btWqmpfRr38vKS9jTW6/VNTU1Llizx/8Hw4cOFEDU1NV00SbsrtX/DucO3ndva2l588cVnnnnmvvvus/caAADQp7G9AQDAAbm7uzc1Nfn6+to0qqmpqZuTWtnTaDSePHlyxIgRliPOzs7PPvvs+vXry8rKpCP19fXXFebl5eXl5eXv7z9lypTExMT2Jxw0aFAXTVVVVdLLvZaD7U9ucfHixcOHDx8+fHjVqlWWg88///xrr71WWVlp5U8DAKAvIwADABxQHw/ABQUFKSkpO3bsGD9+vOVgc3OzVqvVaDTS17KysitXrvTv31/6LIRQqVTS08s6nU5aLFoI0dLScv78eWkPp86aFAqFEKKkpER68rmlpeXgwYNKpfK6qgIDA3fv3t3+yNNPP/3MM8/87Gc/68ZVAQCgD+ERaACAA3Jzc6utrbXpkWaz2VxbW9vNSa3sGR8fP2HChPT09JycnKKioqKiol27diUkJCgUilmzZkl9AgICFi9erNPpdDrdW2+9FRkZOXbsWCFEZmZmfn7+xx9/LL30O3PmzOTkZOn1486aQkJCNBrN8uXLKysr9Xr9nDlznJycbqzKw8ND/f9zcXEZMmSINC8AAA6AAAwAcEDe3t5ms7m6utr6IZcuXbJpFavruLm5Wb+NsLOz84YNG+bPn5+XlzdjxoykpKSXXnopOjp6z5494eHhUp/hw4cPHTo0KioqIiKiqqoqNzdXWphqzJgxBw4cKC4uHjZs2GOPPVZfX79hwwbpheEumt5///3Ro0c//PDD4eHh/v7+U6dO7eYLzwAA3InYBgkA4JgMBsOFCxdUKpW0glTXmpqajh8/3p3pwsLCrH8E+qbS0tJ0Op20SRIAAOgp3AEGADgmd3d3pVJ57tw5azpLGwXZLSAgoAfTLwAAuEVYBAsA4LD8/PyEEF9//XVISEhwcHCHfaqrqy9dumT388AKhUKpVNq62hYAAOgVPAINAHBwRqOxpqbGbDb7+fl5e3v7+PgIIRoaGhobG3U6nV6vt/vMnp6eQUFBLi78NRkAgDsDARgAIAtGo7G5ubm5uVmv1xuNRrvP4+rq6uHh4enp6eHhYf2yzwAAoC8gAAMAAAAAZIFFsAAAAAAAskAABgAAAADIAgEYAAAAACALBGAAAAAAgCwQgAEAAAAAskAABgAAAADIAgEYAAAAACALBGAAAAAAgCwQgAEAAAAAskAABgAAAADIAgEYAAAAACALBGAAAAAAgCwQgAEAAAAAskAABgAAAADIAgEYAAAAACALBGAAAAAAgCwQgAEAAAAAskAABgAAAADIAgEYAAAAACALBGAAAAAAgCwQgAEAAAAAskAABgAAAADIAgEYAAAAACALBGAAAAAAgCwQgAEAAAAAsuDS2wUAAHA7NDY2GgwGg8Gg1+vb2trsPo+Li4v7D7y9vXu0RgAAcGs51dXV9XYNAADcQkajUavVCiH8/Py8vb19fHyEEA0NDY2NjTqdTq/X231mDw+PoKAgV1fXHq0XAADcKgRgAIAju3bt2uXLl4ODg4ODgzvsUF1dfenSJbPZbN/5FQqFUqn09fXtXpkAAOB24B1gAIDD0ul09fX1KpWqs/QrhAgODlapVJ6envZNYTKZampqdDqdHWO3bNmSkpISFRUVFhYWHx+/bNmyq1ev2leGrTIzM+Pi4m48XlZW5n8D6f45AAAOgHeAAQCOyWg0XrlyZdiwYe7u7l339PLyioyM/O677+y+D1xbW+vl5WXTs9ArV65csWJFZmbm888/L4Q4c+bM0qVLCwoK8vPz7U7j3dfQ0CCE2Lhxo5+fn+Vgv379eqseAAB6FgEYAOCAzGazVqsNDQ29afqVuLu7h4aGXrx4sTvTDRgwwMnJycohubm5GRkZc+fOlb6q1eohQ4akp6eXlpaq1Wr7yug+KQDHxcXdddddvVUDAAC3Do9AAwAckMFgcHZ2DgwMtH5IcHBwd1Z11uv1BoPB+v5arfa6G84xMTHl5eVS+k1NTU1PT1+xYsXAgQNDQkISEhKOHTtm6bl58+aJEydGREQkJiauWrWq/Xk6a2poaEhNTY2IiEhKStq2bVtnVdXX1wshSL8AAEdFAAYAOCCDwRAUFGTrqICAgG5Oan1ntVq9evXq7OzsU6dO3djq6upaWFgohKiqqiouLg4MDJw+fbq0e1NeXt7s2bNHjhxZWlq6aNGi7Ozsl19+WRrVRdOCBQvOnDmTl5eXk5NTUVGxd+/eDqtqbGwk/QIAHBirQAMAHFB1dXV4eLitL9M2NjZWVFTYPamPj08Xq21d5+rVqwsXLty+fbsQwt/fX6PRzJkzJyYmRmpNS0vbv39/ZWWl9F7x0aNH4+Li8vPzY2Njk5OTTSbTzp07pZ5bt27NyMg4fvy4UqnsrKm1tVWlUmVlZaWkpEhNGo3Gycnp0KFD11X117/+9U9/+tMTTzyxb9++2tra++67b8GCBR0ulwUAwJ2IO8AAAAdkMBjc3NxsHeXh4dHNSa3v3K9fvzVr1hQWFi5dujQ2Nra8vHzixIkajcayL3FUVJRlVa3BgwcLIU6dOmUymQ4fPjxu3DjLedRqtdFoLC4u7qLp7NmzQoihQ4damkaNGtVhVQ0NDZcvX25sbFy5cuXGjRuVSuVTTz313Xff2X4xAADoi1gECwDggEwmkx1LOtu9CrRlUluHREdHR0dHCyHa2tpyc3Pnz5+/du3ajIyM69K4l5eXtKexXq9vampasmTJkiVL2p+npqamiyaFQiGEaP+Gc2dvOy9cuHDhwoWWrzExMSNGjFi/fv2bb75p608DAKAPIgADAByQu7t7U1OTr6+vTaOampq6OamVPY1G48mTJ0eMGGE54uzs/Oyzz65fv76srEw6Iq1H1b4wLy8vLy8vf3//KVOmJCYmtj/hoEGDumiqqqoSQjQ3N1sOtj95FxQKxdChQ7///nsrfxcAAH0cARgA4ID6eAAuKChISUnZsWPH+PHjLQebm5u1Wq1Go5G+lpWVXblypX///tJnIYRKpZKeXtbpdJatklpaWs6fPx8aGtpFk3QHuKSkRHryuaWl5eDBg0ql8sbC/vrXv9bU1Lz22mvS19bW1hMnTjz99NPduSwAAPQdvAMMAHBAbm5utbW1Nj3SbDaba2truzmplT3j4+MnTJiQnp6ek5NTVFRUVFS0a9euhIQEhUIxa9YsqU9AQMDixYt1Op1Op3vrrbciIyPHjh0rhMjMzMzPz//444+ll35nzpyZnJwsvX7cWVNISIhGo1m+fHllZaVer58zZ05n+xW3trauXLlyyZIlRUVFhYWFaWlpjY2NU6ZM6c5lAQCg7yAAAwAckLe3t9lsrq6utn7IpUuXbFrF6jpubm7WbyPs7Oy8YcOG+fPn5+XlzZgxIykp6aWXXoqOjt6zZ094eLjUZ/jw4UOHDo2KioqIiKiqqsrNzXV2dhZCjBkz5sCBA8XFxcOGDXvsscfq6+s3bNggvTDcRdP7778/evTohx9+ODw83N/ff+rUqR3+dSAjI+O999774osvkpKSfvnLX+p0uq1bt0ZGRtp9WQAA6FPYBgkA4JgMBsOFCxdUKpW0glTXmpqajh8/3p3pwsLCrH8E+qbS0tJ0Op20SRIAAOgp3AEGADgmd3d3pVJ57tw5azpLGwXZLSAgoAfTLwAAuEVYBAsA4LD8/PyEEF9//XVISEhwcHCHfaqrqy9dumT3BkgKhUKpVNq62hYAAOgVPAINAHBwRqOxpqbGbDb7+fl5e3v7+PgIIRoaGhobG3U6nV6vt/vMnp6eQUFBLi78NRkAgDsDARgAIAtGo7G5ubm5uVmv1xuNRrvP4+rq6uHh4enp6eHhYf2yzwAAoC8gAAMAAAAAZIFFsAAAAAAAskAABgAAAADIAgEYAAAAACALBGAAAAAAgCwQgAEAAAAAskAABgAAAADIAgEYAAAAACALBGAAAAAAgCwQgAEAAAAAskAABgAAAADIAgEYAAAAACALBGAAAAAAgCwQgAEAAAAAskAABgAAAADIAgEYAAAAACALBGAAAAAAgCwQgAEAAAAAskAABgAAAADIAgEYAAAAACALBGAAAAAAgCwQgAEAAAAAskAABgAAAADIAgEYAAAAACALBGAAAAAAgCwQgAEAAAAAsuDS2wUAAHA7NDY2GgwGg8Gg1+vb2trsPo+Li4v7D7y9vXu0RgAAcGs51dXV9XYNAADcQkajUavVCiH8/Py8vb19fHyEEA0NDY2NjTqdTq/X231mDw+PoKAgV1fXHq0XAADcKgRgAIAju3bt2uXLl4ODg4ODgzvsUF1dfenSJbPZbN/5FQqFUqn09fXtXpkAAOB24B1gAIDD0ul09fX1KpWqs/QrhAgODlapVJ6envZNYTKZampqdDqdHWO3bNmSkpISFRUVFhYWHx+/bNmyq1ev2leGrTIzM+Pi4jpr/eijj5KSkoYMGfLcc88dOnTo9pQEAMBtQAAGADgmo9F45cqVyMhIDw+Prnt6eXlFRkY6OTnZPVdtba3RaLRpyMqVK+fNmxcTE5OVlbVp06Zp06atW7du8uTJzc3NdpfRI1599dUVK1YkJSW98847dXV1qamply9f7t2SAADoKSyCBQBwQGazWavVhoaGuru7W9Pf3d09NDT04sWL3ZluwIAB1qfo3NzcjIyMuXPnSl/VavWQIUPS09NLS0vVarV9ZXRfTU1NVlbWjh07pBoeeuihjRs3dmfNMAAA+hTuAAMAHJDBYHB2dg4MDLR+SHBwcHdWddbr9QaDwfr+Wq32uhePY2JiysvLpeSZmpqanp6+YsWKgQMHhoSEJCQkHDt2zNJz8+bNEydOjIiISExMXLVqVfvzdNbU0NCQmpoaERGRlJS0bdu2zqrau3evj4+PJYH7+PjMmjXLpssIAEBfRgAGADggg8EQFBRk66iAgIBuTmp9Z7VavXr16uzs7FOnTt3Y6urqWlhYKISoqqoqLi4ODAycPn26dCc2Ly9v9uzZI0eOLC0tXbRoUXZ29ssvvyyN6qJpwYIFZ86cycvLy8nJqaio2Lt3b4dVlZeXq1SqQ4cOPfHEExERERMnTty/f79dFwMAgL6IVaABAA6ouro6PDzc1qWtGhsbKyoq7J7Ux8eni9W2rnP16tWFCxdu375dCOHv76/RaObMmRMTEyO1pqWl7d+/v7KyUtpj6ejRo3Fxcfn5+bGxscnJySaTaefOnVLPrVu3ZmRkHD9+XKlUdtbU2tqqUqmysrJSUlKkJo1G4+TkdOMCV7NmzfrHP/4RHh6+YMECV1fXtWvX7t27t6ioaPDgwXZfFgAA+g7uAAMAHJDBYHBzc7N11E2Xy7rppNZ37tev35o1awoLC5cuXRobG1teXj5x4kSNRmPZlzgqKsqyw7CUP0+dOmUymQ4fPjxu3DjLedRqtdFoLC4u7qLp7NmzQoihQ4damkaNGtVhVW1tbd9///2GDRsefvhhtVq9YsUKV1fXTz75xPaLAQBAX0QABgA4IJPJZMfWvnbvBmyZ1NYh0dHRL7zwwsaNG48cOfL2229/++23a9eulZrap3EvLy9pT2O9Xt/U1LRkyRL/HwwfPlxavKqLJml3pfZvOHf2trOXl1dERET//v2lrwEBASNHjjx58qTtFwMAgL6IVaABAA7I3d29qanJ19fXplFNTU3dnNTKnkaj8eTJkyNGjLAccXZ2fvbZZ9evX19WViYdqa+vv64wLy8vLy8vf3//KVOmJCYmtj/hoEGDumiqqqoSQrTfYKn9ydu7++67d+3a1dra6uLyf/+FoFDw53IAgIPgnzQAgAOSArCto25bAC4oKIiNjT1w4ED7g83NzVqt1rIQV1lZ2ZUrVyyfhRAqlUp6elmn06l/8MADDwQHB4eGhnbRFBERIYQoKSmRztbS0nLw4MEOC4uLi9PpdJZ3g+vr648ePfqjH/3I3ksCAEDfQgAGADggNze32tpamx5pNpvNtbW13ZzUyp7x8fETJkxIT0/PyckpKioqKiratWtXQkKCQqGYNWuW1CcgIGDx4sU6nU6n07311luRkZFjx44VQmRmZubn53/88cfSS78zZ85MTk6WXj/urCkkJESj0VPcDSYAABEbSURBVCxfvryyslKv18+ZM6ez/YpHjx79yCOPvPHGGzt27CgqKpoyZUr//v0tS2cB+H/t3V1olvX/wPHLTd0jbsV0m+Xkp4HzqSI8MN0kK4XUI/HAQKycVmIUmEJGB3lglFAdlFFWmEJlD2RBghFKpAetELEHFU3JZmsbpt25h3ve5f4HN/8hlWubmrbP63W07fpe1/Xdzt67r+v7Bf7rBDAAA1BRUVFXV1dTU1PvT2lsbOzTKlZ/MnTo0N5vI5ybm7tly5aVK1du27Zt2bJl8+bNW7Vq1eTJk3fs2FFVVZUdM2HChHHjxk2aNGn06NENDQ2bN2/Ozc1NkmTq1Km7du2qr68fP378ggULzpw5s2XLluwLwz0c2rBhw5QpU2bOnFlVVVVaWrpo0aIL/XfgpZdeuvPOO1944YV58+Zlt1YqLS3t958FAK4qtkECYGDq7Ow8ceJEdXV1dgWpnrW3tx88ePBibjdq1KjePwL9j+rq6lKpVHaTJADgUvEJMAADU15eXllZ2fHjx3szOLtRUL8NHz78EtYvAHCZWAUagAGrpKQkSZJ9+/ZVVlZWVFT87ZimpqbGxsZ+b4CUk5NTVlbW1+WmAYArwiPQAAxwmUympaWlq6urpKSkqKiouLg4SZLW1ta2trZUKpVOp/t95YKCgvLy8vN3DAIArmYCGIAQMplMR0dHR0dHOp3OZDL9vs6QIUPy8/MLCgry8/N7v+wzAHA1EMAAAACEYBEsAAAAQhDAAAAAhCCAAQAACEEAAwAAEIIABgAAIAQBDAAAQAgCGAAAgBAEMAAAACEIYAAAAEIQwAAAAIQggAEAAAhBAAMAABCCAAYAACAEAQwAAEAIAhgAAIAQBDAAAAAhCGAAAABCEMAAAACEIIABAAAIQQADAAAQggAGAAAgBAEMAABACAIYAACAEAQwAAAAIQhgAAAAQhh8pScAAP+Gtra2zs7Ozs7OdDr9xx9/9Ps6gwcPzvt/RUVFl3SOAMDlNejXX3+90nMAgMsok8k0NzcnSVJSUlJUVFRcXJwkSWtra1tbWyqVSqfT/b5yfn5+eXn5kCFDLul8AYDLRQADMJD99ttvv/zyS0VFRUVFxd8OaGpqamxs7Orq6t/1c3JyysrKhg0bdnHTBAD+Dd4BBmDASqVSZ86cqa6uvlD9JklSUVFRXV1dUFDQv1ucO3eupaUllUr149x33nln4cKFkyZNGjVq1KxZs9atW3f69On+TaOv1qxZM2PGjL/+vK6urvQvVq9e/e/MCgAuN+8AAzAwZTKZU6dOjR8/Pi8vr+eRhYWFY8eO/e677/r9OfDJkycLCwv79Cz0888/v379+jVr1jz00ENJkhw7dmzt2rU7d+7cvn17v2v84q1ateq+++7r/jadTi9ZsmTChAlXaj4AcGkJYAAGoK6urubm5pEjR/5j/Wbl5eWNHDnyp59+upjbXXfddYMGDerlKZs3b16xYsXDDz+c/bampuaGG25YunTp3r17a2pq+jeNizd+/Pjzv123bt24cePuvffeKzUfALi0PAINwADU2dmZm5s7YsSI3p9SUVFxMas6p9Ppzs7O3o9vbm7+0wfO06ZNO3DgQLZ+Fy9evHTp0vXr119//fWVlZWzZ8/+9ttvu0du3bp1zpw5o0ePnjt37iuvvHL+dS50qLW1dfHixaNHj543b957773XmxkeP378xRdffOaZZ3pf9QBwlRPAAAxAnZ2d5eXlfT1r+PDhF3nT3g+uqal59dVXN27ceOTIkb8eHTJkyO7du5MkaWhoqK+vHzFixD333JPdvWnbtm0PPvjgjTfeuHfv3scee2zjxo1PPPFE9qweDj366KPHjh3btm3bpk2bDh069Mknn/zjDJ966qm77rrrlltu6f0vBQBXOatAAzAANTU1VVVV9fVl2ra2tkOHDvX7psXFxT2stvUnp0+fXr169fvvv58kSWlpaW1t7fLly6dNm5Y9WldX9+mnnx49ejT7XvHXX389Y8aM7du3T58+ff78+efOnfvwww+zI999990VK1YcPHiwrKzsQod+//336urql19+eeHChdlDtbW1gwYN+vzzzy80vZ9//nnixIkff/xx95QAYADwCTAAA1BnZ+fQoUP7elZ+fv5F3rT3g6+55prXXntt9+7da9eunT59+oEDB+bMmVNbW9u9L/GkSZO6V9UaM2ZMkiRHjhw5d+7cF198cdttt3Vfp6amJpPJ1NfX93Dohx9+SJJk3Lhx3Yduuummnqf39ttvjxkzRv0CMMAIYAAGoHPnzvVjSed+rwLdfdO+njJ58uRHHnnkzTff/PLLL5977rlvvvnm9ddfzx46v8YLCwuzexqn0+n29vYnn3yye4+i7BLNLS0tPRzK7q50/hvO//i289atWxcsWNDXXwcArnJWgQZgAMrLy2tvbx82bFifzmpvb7/Im/ZyZCaTOXz48MSJE7t/kpubu2TJkjfeeGP//v3Zn5w5c+ZPEyssLCwsLCwtLb377rvnzp17/gX/97//9XCooaEhSZKOjo7uH55/8b/6/vvvDx8+fPvtt/fy1wGA/woBDMAAdJUH8M6dOxcuXPjBBx+cH5kdHR3Nzc21tbXZb/fv33/q1Klrr702+3WSJNXV1dmnl1OpVPdWSWfPnv3xxx9HjhzZw6GcnJwkSb766qvsk89nz5797LPPysrKLjS9vXv3Jkly8803X8QfAwCuRh6BBmAAGjp06MmTJ/v0SHNXV9fJkycv8qa9HDlr1qw77rhj6dKlmzZt2rNnz549ez766KPZs2fn5OQ88MAD2THDhw9//PHHU6lUKpV69tlnx44de+uttyZJsmbNmu3bt7/11lvZl37vv//++fPnZ18/vtChysrK2trap59++ujRo+l0evny5T3vbHTs2LGqqqp+vEQNAFc5AQzAAFRUVNTV1dXU1NT7UxobG/u0itWfDB06tPfbCOfm5m7ZsmXlypXbtm1btmzZvHnzVq1aNXny5B07dlRVVWXHTJgwYdy4cZMmTRo9enRDQ8PmzZtzc3OTJJk6dequXbvq6+vHjx+/YMGCM2fObNmyJfvCcA+HNmzYMGXKlJkzZ1ZVVZWWli5atKiH/w60tLQUFxf3+08BAFct2yABMDB1dnaeOHGiuro6u4JUz9rb2w8ePHgxtxs1alTvH4H+R3V1dalUKrtJEgBwqfgEGICBKS8vr6ys7Pjx470ZnN0oqN+GDx9+CesXALhMLIIFwIBVUlKSJMm+ffsqKysrKir+dkxTU1NjY2O/N0DKyckpKyvr62pbAMAV4RFoAAa4TCbT0tLS1dVVUlJSVFSUfbu1tbW1ra0tlUql0+l+X7mgoKC8vHzwYP9NBoD/BgEMQAiZTKajo6OjoyOdTmcymX5fZ8iQIfn5+QUFBfn5+dZJBoD/FgEMAABACBbBAgAAIAQBDAAAQAgCGAAAgBAEMAAAACEIYAAAAEIQwAAAAIQggAEAAAhBAAMAABCCAAYAACAEAQwAAEAIAhgAAIAQBDAAAAAhCGAAAABCEMAAAACEIIABAAAIQQADAAAQggAGAAAgBAEMAABACAIYAACAEAQwAAAAIQhgAAAAQhDAAAAAhCCAAQAACEEAAwAAEIIABgAAIAQBDAAAQAgCGAAAgBAEMAAAACEIYAAAAEIQwAAAAIQggAEAAAhBAAMAABCCAAYAACAEAQwAAEAIAhgAAIAQBDAAAAAhCGAAAABCEMAAAACEIIABAAAIQQADAAAQggAGAAAgBAEMAABACAIYAACAEAQwAAAAIQhgAAAAQhDAAAAAhCCAAQAACEEAAwAAEIIABgAAIAQBDAAAQAgCGAAAgBAEMAAAACEIYAAAAEIQwAAAAIQggAEAAAhBAAMAABCCAAYAACAEAQwAAEAIAhgAAIAQBDAAAAAhCGAAAABCEMAAAACEIIABAAAIQQADAAAQggAGAAAgBAEMAABACAIYAACAEAQwAAAAIQhgAAAAQhDAAAAAhCCAAQAACEEAAwAAEIIABgAAIAQBDAAAQAgCGAAAgBAEMAAAACEIYAAAAEIQwAAAAIQggAEAAAhBAAMAABCCAAYAACAEAQwAAEAIAhgAAIAQBDAAAAAhCGAAAABCEMAAAACEIIABAAAIQQADAAAQggAGAAAgBAEMAABACAIYAACAEAQwAAAAIQhgAAAAQhDAAAAAhCCAAQAACEEAAwAAEIIABgAAIAQBDAAAQAgCGAAAgBAEMAAAACEIYAAAAEIQwAAAAIQggAEAAAhBAAMAABCCAAYAACAEAQwAAEAIAhgAAIAQBDAAAAAhCGAAAABCEMAAAACEIIABAAAIQQADAAAQggAGAAAgBAEMAABACAIYAACAEAQwAAAAIQhgAAAAQhDAAAAAhCCAAQAACEEAAwAAEIIABgAAIAQBDAAAQAgCGAAAgBAEMAAAACEIYAAAAEIQwAAAAIQggAEAAAhBAAMAABCCAAYAACAEAQwAAEAIAhgAAIAQBDAAAAAhCGAAAABCEMAAAACEIIABAAAIQQADAAAQggAGAAAgBAEMAABACAIYAACAEAQwAAAAIQhgAAAAQhDAAAAAhCCAAQAACEEAAwAAEIIABgAAIAQBDAAAQAgCGAAAgBAEMAAAACEIYAAAAEIQwAAAAIQggAEAAAhBAAMAABCCAAYAACAEAQwAAEAIAhgAAIAQBDAAAAAhCGAAAABCEMAAAACEIIABAAAIQQADAAAQggAGAAAgBAEMAABACAIYAACAEAQwAAAAIQhgAAAAQhDAAAAAhCCAAQAACEEAAwAAEIIABgAAIAQBDAAAQAgCGAAAgBAEMAAAACEIYAAAAEIQwAAAAIQggAEAAAhBAAMAABCCAAYAACAEAQwAAEAIAhgAAIAQBDAAAAAhCGAAAABCEMAAAACEIIABAAAIQQADAAAQggAGAAAgBAEMAABACAIYAACAEAQwAAAAIQhgAAAAQhDAAAAAhCCAAQAACEEAAwAAEIIABgAAIAQBDAAAQAgCGAAAgBAEMAAAACEIYAAAAEIQwAAAAIQggAEAAAhBAAMAABCCAAYAACAEAQwAAEAIAhgAAIAQBDAAAAAhCGAAAABCEMAAAACEIIABAAAIQQADAAAQggAGAAAgBAEMAABACAIYAACAEAQwAAAAIQhgAAAAQhDAAAAAhCCAAQAACEEAAwAAEIIABgAAIAQBDAAAQAgCGAAAgBAEMAAAACEIYAAAAEIQwAAAAIQggAEAAAhBAAMAABCCAAYAACAEAQwAAEAIAhgAAIAQBDAAAAAhCGAAAABCEMAAAACEIIABAAAIQQADAAAQggAGAAAgBAEMAABACAIYAACAEAQwAAAAIQhgAAAAQhDAAAAAhCCAAQAACEEAAwAAEIIABgAAIAQBDAAAQAgCGAAAgBAEMAAAACEIYAAAAEIQwAAAAIQggAEAAAhBAAMAABCCAAYAACAEAQwAAEAIAhgAAIAQBDAAAAAhCGAAAABCEMAAAACEIIABAAAIQQADAAAQggAGAAAgBAEMAABACAIYAACAEAQwAAAAIQhgAAAAQhDAAAAAhCCAAQAACEEAAwAAEIIABgAAIAQBDAAAQAgCGAAAgBAEMAAAACEIYAAAAEIQwAAAAIQggAEAAAhBAAMAABCCAAYAACAEAQwAAEAIAhgAAIAQBDAAAAAhCGAAAABCEMAAAACEIIABAAAIQQADAAAQggAGAAAgBAEMAABACAIYAACAEAQwAAAAIQhgAAAAQhDAAAAAhCCAAQAACEEAAwAAEIIABgAAIAQBDAAAQAgCGAAAgBAEMAAAACEIYAAAAEIQwAAAAIQggAEAAAjh/wCEr53rTwtQqwAAAABJRU5ErkJggg==\" />"
            ]
          },
          "metadata": {},
          "execution_count": 11
        }
      ],
      "source": [
        "import base64\n",
        "from IPython.display import HTML\n",
        "\n",
        "def display_image(file_path):\n",
        "    # Read the image file\n",
        "    with open(file_path, \"rb\") as image_file:\n",
        "        encoded_string = base64.b64encode(image_file.read()).decode()\n",
        "\n",
        "    # Create the HTML to display the image\n",
        "    html = f'<img src=\"data:image/png;base64,{encoded_string}\" />'\n",
        "\n",
        "    # Display the HTML\n",
        "    return HTML(html)\n",
        "\n",
        "# Usage\n",
        "display_image('screenshot.png')"
      ]
    }
  ],
  "metadata": {
    "kernelspec": {
      "display_name": "Python 3",
      "name": "python3"
    },
    "language_info": {
      "codemirror_mode": {
        "name": "ipython",
        "version": 3
      },
      "file_extension": ".py",
      "mimetype": "text/x-python",
      "name": "python",
      "nbconvert_exporter": "python",
      "pygments_lexer": "ipython3",
      "version": "3.10.14"
    },
    "colab": {
      "provenance": [],
      "gpuType": "T4",
      "include_colab_link": true
    },
    "accelerator": "GPU"
  },
  "nbformat": 4,
  "nbformat_minor": 0
}